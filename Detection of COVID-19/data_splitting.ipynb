{
 "cells": [
  {
   "cell_type": "code",
   "execution_count": 3,
   "id": "65eaa0f2",
   "metadata": {},
   "outputs": [
    {
     "data": {
      "text/plain": [
       "['data.csv', 'data_train.csv', 'data_test.csv', 'data_valid.csv']"
      ]
     },
     "execution_count": 3,
     "metadata": {},
     "output_type": "execute_result"
    }
   ],
   "source": [
    "import os\n",
    "os.listdir('./csv_files/')"
   ]
  },
  {
   "cell_type": "code",
   "execution_count": 4,
   "id": "7009e2c9",
   "metadata": {},
   "outputs": [
    {
     "name": "stdout",
     "output_type": "stream",
     "text": [
      "Data split and saved successfully!\n"
     ]
    }
   ],
   "source": [
    "\n",
    "import pandas as pd\n",
    "from sklearn.model_selection import train_test_split\n",
    "\n",
    "# Step 1: Read the original CSV file\n",
    "data = pd.read_csv('./csv_files/data.csv')\n",
    "\n",
    "# Step 2: Split the data into training (80%) and remaining data (20%)\n",
    "train_data, remaining_data = train_test_split(data, test_size=0.2, random_state=42)\n",
    "\n",
    "# Step 3: Split the remaining data into validation (10%) and testing (10%)\n",
    "valid_data, test_data = train_test_split(remaining_data, test_size=0.5, random_state=42)\n",
    "\n",
    "# Step 4: Save the training, validation, and testing sets to separate CSV files\n",
    "train_data.to_csv('./csv_files/data_train.csv', index=False)\n",
    "valid_data.to_csv('./csv_files/data_valid.csv', index=False)\n",
    "test_data.to_csv('./csv_files/data_test.csv', index=False)\n",
    "\n",
    "print(\"Data split and saved successfully!\")"
   ]
  },
  {
   "cell_type": "code",
   "execution_count": 5,
   "id": "7ec0dbe1",
   "metadata": {},
   "outputs": [
    {
     "name": "stdout",
     "output_type": "stream",
     "text": [
      "traing data\n",
      "   Unnamed: 0                                         image_path  \\\n",
      "0        5758  ./processed_data/pocus_videos_to_images/convex...   \n",
      "1        4244  ./processed_data/pocus_videos_to_images/convex...   \n",
      "2        9517  ./processed_data/pocus_videos_to_images/convex...   \n",
      "3         415  ./processed_data/pocus_videos_to_images/linear...   \n",
      "4       12024  ./processed_data/pocus_videos_to_images/convex...   \n",
      "\n",
      "                 label  \n",
      "0                COVID  \n",
      "1              healthy  \n",
      "2                COVID  \n",
      "3              healthy  \n",
      "4  bacterial pneumonia  \n",
      "stastics of the given data:\n",
      "COVID                  3919\n",
      "healthy                3697\n",
      "bacterial pneumonia    2733\n",
      "viral pneumonia         131\n",
      "Name: label, dtype: int64\n",
      "####################################################################################################\n",
      "validation data\n",
      "   Unnamed: 0                                         image_path  \\\n",
      "0       11813  ./processed_data/pocus_videos_to_images/convex...   \n",
      "1        9247  ./processed_data/pocus_videos_to_images/convex...   \n",
      "2       10128  ./processed_data/pocus_videos_to_images/convex...   \n",
      "3        2310  ./processed_data/pocus_videos_to_images/convex...   \n",
      "4        6786  ./processed_data/pocus_videos_to_images/convex...   \n",
      "\n",
      "                 label  \n",
      "0  bacterial pneumonia  \n",
      "1                COVID  \n",
      "2                COVID  \n",
      "3              healthy  \n",
      "4                COVID  \n",
      "stastics of the given data:\n",
      "COVID                  509\n",
      "healthy                439\n",
      "bacterial pneumonia    352\n",
      "viral pneumonia         10\n",
      "Name: label, dtype: int64\n",
      "####################################################################################################\n",
      "test data\n",
      "   Unnamed: 0                                         image_path  \\\n",
      "0        8570  ./processed_data/pocus_videos_to_images/convex...   \n",
      "1       12592  ./processed_data/pocus_videos_to_images/convex...   \n",
      "2         424  ./processed_data/pocus_videos_to_images/linear...   \n",
      "3        8086  ./processed_data/pocus_videos_to_images/convex...   \n",
      "4        6800  ./processed_data/pocus_videos_to_images/convex...   \n",
      "\n",
      "                 label  \n",
      "0                COVID  \n",
      "1  bacterial pneumonia  \n",
      "2              healthy  \n",
      "3                COVID  \n",
      "4                COVID  \n",
      "stastics of the given data:\n",
      "healthy                503\n",
      "COVID                  456\n",
      "bacterial pneumonia    333\n",
      "viral pneumonia         18\n",
      "Name: label, dtype: int64\n",
      "####################################################################################################\n"
     ]
    }
   ],
   "source": [
    "import pandas as pd\n",
    "print('traing data')\n",
    "data = pd.read_csv('./csv_files/data_train.csv')\n",
    "\n",
    "print(data.head())\n",
    "# Print the statastis of the given data\n",
    "print(\"stastics of the given data:\")\n",
    "print(data['label'].value_counts())\n",
    "print('#'*100)\n",
    "\n",
    "print('validation data')\n",
    "\n",
    "data = pd.read_csv('./csv_files/data_valid.csv')\n",
    "\n",
    "print(data.head())\n",
    "# Print the statastis of the given data\n",
    "print(\"stastics of the given data:\")\n",
    "print(data['label'].value_counts())\n",
    "print('#'*100)\n",
    "\n",
    "print('test data')\n",
    "\n",
    "data = pd.read_csv('./csv_files/data_test.csv')\n",
    "\n",
    "print(data.head())\n",
    "# Print the statastis of the given data\n",
    "print(\"stastics of the given data:\")\n",
    "print(data['label'].value_counts())\n",
    "print('#'*100)\n"
   ]
  }
 ],
 "metadata": {
  "kernelspec": {
   "display_name": "Python 3 (ipykernel)",
   "language": "python",
   "name": "python3"
  },
  "language_info": {
   "codemirror_mode": {
    "name": "ipython",
    "version": 3
   },
   "file_extension": ".py",
   "mimetype": "text/x-python",
   "name": "python",
   "nbconvert_exporter": "python",
   "pygments_lexer": "ipython3",
   "version": "3.9.12"
  }
 },
 "nbformat": 4,
 "nbformat_minor": 5
}
