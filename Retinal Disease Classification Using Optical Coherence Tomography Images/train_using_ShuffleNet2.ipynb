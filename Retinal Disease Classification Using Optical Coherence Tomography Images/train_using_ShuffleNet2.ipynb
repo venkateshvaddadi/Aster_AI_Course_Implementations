{
 "cells": [
  {
   "cell_type": "code",
   "execution_count": 4,
   "id": "f56b3631",
   "metadata": {},
   "outputs": [],
   "source": [
    "#!/usr/bin/env python3\n",
    "# -*- coding: utf-8 -*-\n",
    "\"\"\"\n",
    "Created on Wed Jul 31 11:42:46 2024\n",
    "\n",
    "@author: venkatesh\n",
    "\"\"\"\n",
    "\n",
    "import torch\n",
    "import torch\n",
    "import torch.nn as nn\n",
    "import torch.optim as optim\n",
    "import torchvision.transforms as transforms\n",
    "from torch.utils.data import Dataset, DataLoader\n",
    "import pandas as pd\n",
    "from PIL import Image\n",
    "import numpy as np"
   ]
  },
  {
   "cell_type": "code",
   "execution_count": 5,
   "id": "9df1251e",
   "metadata": {},
   "outputs": [
    {
     "name": "stdout",
     "output_type": "stream",
     "text": [
      "cuda\n"
     ]
    }
   ],
   "source": [
    "device = torch.device(\"cuda\" if torch.cuda.is_available() else \"cpu\")\n",
    "print(device)\n"
   ]
  },
  {
   "cell_type": "code",
   "execution_count": 8,
   "id": "45cb7d31",
   "metadata": {},
   "outputs": [
    {
     "name": "stdout",
     "output_type": "stream",
     "text": [
      "torch.Size([1, 3])\n",
      "----------------------------------------------------------------\n",
      "        Layer (type)               Output Shape         Param #\n",
      "================================================================\n",
      "            Conv2d-1         [-1, 24, 112, 112]             240\n",
      "         MaxPool2d-2           [-1, 24, 56, 56]               0\n",
      "            Conv2d-3           [-1, 24, 28, 28]             216\n",
      "       BatchNorm2d-4           [-1, 24, 28, 28]              48\n",
      "            Conv2d-5           [-1, 58, 28, 28]           1,392\n",
      "       BatchNorm2d-6           [-1, 58, 28, 28]             116\n",
      "              ReLU-7           [-1, 58, 28, 28]               0\n",
      "            Conv2d-8           [-1, 58, 56, 56]           1,392\n",
      "       BatchNorm2d-9           [-1, 58, 56, 56]             116\n",
      "             ReLU-10           [-1, 58, 56, 56]               0\n",
      "           Conv2d-11           [-1, 58, 28, 28]             522\n",
      "      BatchNorm2d-12           [-1, 58, 28, 28]             116\n",
      "           Conv2d-13           [-1, 58, 28, 28]           3,364\n",
      "      BatchNorm2d-14           [-1, 58, 28, 28]             116\n",
      "             ReLU-15           [-1, 58, 28, 28]               0\n",
      "     ShuffleBlock-16          [-1, 116, 28, 28]               0\n",
      "           Conv2d-17           [-1, 58, 28, 28]           3,364\n",
      "      BatchNorm2d-18           [-1, 58, 28, 28]             116\n",
      "             ReLU-19           [-1, 58, 28, 28]               0\n",
      "           Conv2d-20           [-1, 58, 28, 28]             522\n",
      "      BatchNorm2d-21           [-1, 58, 28, 28]             116\n",
      "           Conv2d-22           [-1, 58, 28, 28]           3,364\n",
      "      BatchNorm2d-23           [-1, 58, 28, 28]             116\n",
      "             ReLU-24           [-1, 58, 28, 28]               0\n",
      "     ShuffleBlock-25          [-1, 116, 28, 28]               0\n",
      "           Conv2d-26           [-1, 58, 28, 28]           3,364\n",
      "      BatchNorm2d-27           [-1, 58, 28, 28]             116\n",
      "             ReLU-28           [-1, 58, 28, 28]               0\n",
      "           Conv2d-29           [-1, 58, 28, 28]             522\n",
      "      BatchNorm2d-30           [-1, 58, 28, 28]             116\n",
      "           Conv2d-31           [-1, 58, 28, 28]           3,364\n",
      "      BatchNorm2d-32           [-1, 58, 28, 28]             116\n",
      "             ReLU-33           [-1, 58, 28, 28]               0\n",
      "     ShuffleBlock-34          [-1, 116, 28, 28]               0\n",
      "           Conv2d-35           [-1, 58, 28, 28]           3,364\n",
      "      BatchNorm2d-36           [-1, 58, 28, 28]             116\n",
      "             ReLU-37           [-1, 58, 28, 28]               0\n",
      "           Conv2d-38           [-1, 58, 28, 28]             522\n",
      "      BatchNorm2d-39           [-1, 58, 28, 28]             116\n",
      "           Conv2d-40           [-1, 58, 28, 28]           3,364\n",
      "      BatchNorm2d-41           [-1, 58, 28, 28]             116\n",
      "             ReLU-42           [-1, 58, 28, 28]               0\n",
      "     ShuffleBlock-43          [-1, 116, 28, 28]               0\n",
      "           Conv2d-44          [-1, 116, 14, 14]           1,044\n",
      "      BatchNorm2d-45          [-1, 116, 14, 14]             232\n",
      "           Conv2d-46          [-1, 116, 14, 14]          13,456\n",
      "      BatchNorm2d-47          [-1, 116, 14, 14]             232\n",
      "             ReLU-48          [-1, 116, 14, 14]               0\n",
      "           Conv2d-49          [-1, 116, 28, 28]          13,456\n",
      "      BatchNorm2d-50          [-1, 116, 28, 28]             232\n",
      "             ReLU-51          [-1, 116, 28, 28]               0\n",
      "           Conv2d-52          [-1, 116, 14, 14]           1,044\n",
      "      BatchNorm2d-53          [-1, 116, 14, 14]             232\n",
      "           Conv2d-54          [-1, 116, 14, 14]          13,456\n",
      "      BatchNorm2d-55          [-1, 116, 14, 14]             232\n",
      "             ReLU-56          [-1, 116, 14, 14]               0\n",
      "     ShuffleBlock-57          [-1, 232, 14, 14]               0\n",
      "           Conv2d-58          [-1, 116, 14, 14]          13,456\n",
      "      BatchNorm2d-59          [-1, 116, 14, 14]             232\n",
      "             ReLU-60          [-1, 116, 14, 14]               0\n",
      "           Conv2d-61          [-1, 116, 14, 14]           1,044\n",
      "      BatchNorm2d-62          [-1, 116, 14, 14]             232\n",
      "           Conv2d-63          [-1, 116, 14, 14]          13,456\n",
      "      BatchNorm2d-64          [-1, 116, 14, 14]             232\n",
      "             ReLU-65          [-1, 116, 14, 14]               0\n",
      "     ShuffleBlock-66          [-1, 232, 14, 14]               0\n",
      "           Conv2d-67          [-1, 116, 14, 14]          13,456\n",
      "      BatchNorm2d-68          [-1, 116, 14, 14]             232\n",
      "             ReLU-69          [-1, 116, 14, 14]               0\n",
      "           Conv2d-70          [-1, 116, 14, 14]           1,044\n",
      "      BatchNorm2d-71          [-1, 116, 14, 14]             232\n",
      "           Conv2d-72          [-1, 116, 14, 14]          13,456\n",
      "      BatchNorm2d-73          [-1, 116, 14, 14]             232\n",
      "             ReLU-74          [-1, 116, 14, 14]               0\n",
      "     ShuffleBlock-75          [-1, 232, 14, 14]               0\n",
      "           Conv2d-76          [-1, 116, 14, 14]          13,456\n",
      "      BatchNorm2d-77          [-1, 116, 14, 14]             232\n",
      "             ReLU-78          [-1, 116, 14, 14]               0\n",
      "           Conv2d-79          [-1, 116, 14, 14]           1,044\n",
      "      BatchNorm2d-80          [-1, 116, 14, 14]             232\n",
      "           Conv2d-81          [-1, 116, 14, 14]          13,456\n",
      "      BatchNorm2d-82          [-1, 116, 14, 14]             232\n",
      "             ReLU-83          [-1, 116, 14, 14]               0\n",
      "     ShuffleBlock-84          [-1, 232, 14, 14]               0\n",
      "           Conv2d-85          [-1, 116, 14, 14]          13,456\n",
      "      BatchNorm2d-86          [-1, 116, 14, 14]             232\n",
      "             ReLU-87          [-1, 116, 14, 14]               0\n",
      "           Conv2d-88          [-1, 116, 14, 14]           1,044\n",
      "      BatchNorm2d-89          [-1, 116, 14, 14]             232\n",
      "           Conv2d-90          [-1, 116, 14, 14]          13,456\n",
      "      BatchNorm2d-91          [-1, 116, 14, 14]             232\n",
      "             ReLU-92          [-1, 116, 14, 14]               0\n",
      "     ShuffleBlock-93          [-1, 232, 14, 14]               0\n",
      "           Conv2d-94          [-1, 116, 14, 14]          13,456\n",
      "      BatchNorm2d-95          [-1, 116, 14, 14]             232\n",
      "             ReLU-96          [-1, 116, 14, 14]               0\n",
      "           Conv2d-97          [-1, 116, 14, 14]           1,044\n",
      "      BatchNorm2d-98          [-1, 116, 14, 14]             232\n",
      "           Conv2d-99          [-1, 116, 14, 14]          13,456\n",
      "     BatchNorm2d-100          [-1, 116, 14, 14]             232\n",
      "            ReLU-101          [-1, 116, 14, 14]               0\n",
      "    ShuffleBlock-102          [-1, 232, 14, 14]               0\n",
      "          Conv2d-103          [-1, 116, 14, 14]          13,456\n",
      "     BatchNorm2d-104          [-1, 116, 14, 14]             232\n",
      "            ReLU-105          [-1, 116, 14, 14]               0\n",
      "          Conv2d-106          [-1, 116, 14, 14]           1,044\n",
      "     BatchNorm2d-107          [-1, 116, 14, 14]             232\n",
      "          Conv2d-108          [-1, 116, 14, 14]          13,456\n",
      "     BatchNorm2d-109          [-1, 116, 14, 14]             232\n",
      "            ReLU-110          [-1, 116, 14, 14]               0\n",
      "    ShuffleBlock-111          [-1, 232, 14, 14]               0\n",
      "          Conv2d-112          [-1, 116, 14, 14]          13,456\n",
      "     BatchNorm2d-113          [-1, 116, 14, 14]             232\n",
      "            ReLU-114          [-1, 116, 14, 14]               0\n",
      "          Conv2d-115          [-1, 116, 14, 14]           1,044\n",
      "     BatchNorm2d-116          [-1, 116, 14, 14]             232\n",
      "          Conv2d-117          [-1, 116, 14, 14]          13,456\n",
      "     BatchNorm2d-118          [-1, 116, 14, 14]             232\n",
      "            ReLU-119          [-1, 116, 14, 14]               0\n",
      "    ShuffleBlock-120          [-1, 232, 14, 14]               0\n",
      "          Conv2d-121            [-1, 232, 7, 7]           2,088\n",
      "     BatchNorm2d-122            [-1, 232, 7, 7]             464\n",
      "          Conv2d-123            [-1, 232, 7, 7]          53,824\n",
      "     BatchNorm2d-124            [-1, 232, 7, 7]             464\n",
      "            ReLU-125            [-1, 232, 7, 7]               0\n",
      "          Conv2d-126          [-1, 232, 14, 14]          53,824\n",
      "     BatchNorm2d-127          [-1, 232, 14, 14]             464\n",
      "            ReLU-128          [-1, 232, 14, 14]               0\n",
      "          Conv2d-129            [-1, 232, 7, 7]           2,088\n",
      "     BatchNorm2d-130            [-1, 232, 7, 7]             464\n",
      "          Conv2d-131            [-1, 232, 7, 7]          53,824\n",
      "     BatchNorm2d-132            [-1, 232, 7, 7]             464\n",
      "            ReLU-133            [-1, 232, 7, 7]               0\n",
      "    ShuffleBlock-134            [-1, 464, 7, 7]               0\n",
      "          Conv2d-135            [-1, 232, 7, 7]          53,824\n",
      "     BatchNorm2d-136            [-1, 232, 7, 7]             464\n",
      "            ReLU-137            [-1, 232, 7, 7]               0\n",
      "          Conv2d-138            [-1, 232, 7, 7]           2,088\n",
      "     BatchNorm2d-139            [-1, 232, 7, 7]             464\n",
      "          Conv2d-140            [-1, 232, 7, 7]          53,824\n",
      "     BatchNorm2d-141            [-1, 232, 7, 7]             464\n",
      "            ReLU-142            [-1, 232, 7, 7]               0\n",
      "    ShuffleBlock-143            [-1, 464, 7, 7]               0\n",
      "          Conv2d-144            [-1, 232, 7, 7]          53,824\n",
      "     BatchNorm2d-145            [-1, 232, 7, 7]             464\n",
      "            ReLU-146            [-1, 232, 7, 7]               0\n",
      "          Conv2d-147            [-1, 232, 7, 7]           2,088\n",
      "     BatchNorm2d-148            [-1, 232, 7, 7]             464\n",
      "          Conv2d-149            [-1, 232, 7, 7]          53,824\n",
      "     BatchNorm2d-150            [-1, 232, 7, 7]             464\n",
      "            ReLU-151            [-1, 232, 7, 7]               0\n",
      "    ShuffleBlock-152            [-1, 464, 7, 7]               0\n",
      "          Conv2d-153            [-1, 232, 7, 7]          53,824\n",
      "     BatchNorm2d-154            [-1, 232, 7, 7]             464\n",
      "            ReLU-155            [-1, 232, 7, 7]               0\n",
      "          Conv2d-156            [-1, 232, 7, 7]           2,088\n",
      "     BatchNorm2d-157            [-1, 232, 7, 7]             464\n",
      "          Conv2d-158            [-1, 232, 7, 7]          53,824\n",
      "     BatchNorm2d-159            [-1, 232, 7, 7]             464\n",
      "            ReLU-160            [-1, 232, 7, 7]               0\n",
      "    ShuffleBlock-161            [-1, 464, 7, 7]               0\n",
      "          Conv2d-162           [-1, 1024, 7, 7]         475,136\n",
      "     BatchNorm2d-163           [-1, 1024, 7, 7]           2,048\n",
      "            ReLU-164           [-1, 1024, 7, 7]               0\n",
      "       AvgPool2d-165           [-1, 1024, 1, 1]               0\n",
      "          Linear-166                    [-1, 3]           3,075\n",
      "================================================================\n",
      "Total params: 1,256,223\n",
      "Trainable params: 1,256,223\n",
      "Non-trainable params: 0\n",
      "----------------------------------------------------------------\n",
      "Input size (MB): 0.19\n",
      "Forward/backward pass size (MB): 43.34\n",
      "Params size (MB): 4.79\n",
      "Estimated Total Size (MB): 48.33\n",
      "----------------------------------------------------------------\n",
      "Computational complexity: 414.69 MMac\n",
      "Computational complexity: 829.38 MFlops\n",
      "Number of parameters: 1.26 M  \n"
     ]
    }
   ],
   "source": [
    "model_name='ShuffleNet2'\n",
    "\n",
    "num_classes = 4\n",
    "# Assuming 3 classes: \"NORMAL\", \"DRUSEN\", \"DME\",\"CNV\"\n",
    "\n",
    "if(model_name=='mobilenetv2'):\n",
    "    from models.mobilenet import MobileNet2\n",
    "    model=MobileNet2(in_channels=1, num_classes=4)\n",
    "if(model_name=='ResNet50'):\n",
    "    from models.resnet import ResNet50\n",
    "    model=ResNet50(num_classes=num_classes, channels=1)    \n",
    "if(model_name=='ShuffleNet2'):\n",
    "    from models.ShuffleNet2 import ShuffleNet2\n",
    "    model=ShuffleNet2(num_classes=num_classes,num_inp_channels=1)    \n",
    "if(model_name=='SqueezeNet'):\n",
    "    from models.SqueezeNet import SqueezeNet\n",
    "    model=SqueezeNet(num_classes=num_classes,num_inp_channels=1)"
   ]
  },
  {
   "cell_type": "code",
   "execution_count": 10,
   "id": "5ed0b6d0",
   "metadata": {},
   "outputs": [],
   "source": [
    "model=model.to(device)\n"
   ]
  },
  {
   "cell_type": "code",
   "execution_count": 11,
   "id": "7662ca0b",
   "metadata": {},
   "outputs": [
    {
     "name": "stdout",
     "output_type": "stream",
     "text": [
      "*******************************************************\n",
      "saved_models//Aug_01_04_56_pm__model_ShuffleNet2/\n",
      "Model will be saved to  : saved_models//Aug_01_04_56_pm__model_ShuffleNet2/\n"
     ]
    }
   ],
   "source": [
    "from datetime import datetime\n",
    "import time\n",
    "\n",
    "import os\n",
    "print ('*******************************************************')\n",
    "start_time=time.time()\n",
    "experiments_folder=\"saved_models/\"\n",
    "experiment_name=datetime.now().strftime(\"%b_%d_%I_%M_%P_\")+\"_model_\"+model_name\n",
    "\n",
    "directory=experiments_folder+\"/\"+experiment_name+\"/\"\n",
    "print(directory)\n",
    "print('Model will be saved to  :', directory)\n",
    "\n",
    "try:\n",
    "    os.makedirs(directory)\n",
    "except:\n",
    "    print('model already existed..........')"
   ]
  },
  {
   "cell_type": "code",
   "execution_count": 12,
   "id": "b2d3e1f1",
   "metadata": {},
   "outputs": [],
   "source": [
    "import torchvision.transforms as transforms\n",
    "\n",
    "# Define transformations for data augmentation or normalization\n",
    "transform = transforms.Compose([\n",
    "    transforms.Resize((224, 224)),  # Resize image to required size\n",
    "    transforms.ToTensor()\n",
    "])"
   ]
  },
  {
   "cell_type": "code",
   "execution_count": 13,
   "id": "0e15e88f",
   "metadata": {},
   "outputs": [
    {
     "name": "stdout",
     "output_type": "stream",
     "text": [
      "2166\n",
      "271\n",
      "number of testing images 86648\n"
     ]
    }
   ],
   "source": [
    "from dataset import CustomDataset\n",
    "from torch.utils.data import Dataset, DataLoader\n",
    "\n",
    "# Create CustomDataset instance\n",
    "dataset = CustomDataset('./csv_files/data_train.csv', transform=transform)\n",
    "train_loader = DataLoader(dataset, batch_size=8, shuffle=False)\n",
    "\n",
    "val_dataset = CustomDataset('./csv_files/data_valid.csv', transform=transform)\n",
    "val_dataloader = DataLoader(val_dataset, batch_size=8, shuffle=False)\n",
    "\n",
    "test_dataset = CustomDataset('./csv_files/test_on_remaining_data.csv', transform=transform)\n",
    "test_dataloader = DataLoader(test_dataset, batch_size=8, shuffle=False)\n",
    "\n",
    "print(len(train_loader))\n",
    "print(len(val_dataloader))\n",
    "\n",
    "print('number of testing images',len(test_dataset))\n"
   ]
  },
  {
   "cell_type": "code",
   "execution_count": 14,
   "id": "9d50e705",
   "metadata": {},
   "outputs": [],
   "source": [
    "\n",
    "\n",
    "learning_rate=0.0001\n",
    "# Define loss function and optimizer\n",
    "criterion = nn.CrossEntropyLoss()\n",
    "optimizer = optim.Adam(model.parameters(), lr=learning_rate)"
   ]
  },
  {
   "cell_type": "code",
   "execution_count": 15,
   "id": "67c8e813",
   "metadata": {},
   "outputs": [
    {
     "name": "stderr",
     "output_type": "stream",
     "text": [
      "Epoch 1/25: 100%|██████████| 2166/2166 [01:53<00:00, 19.15it/s, Loss=0.892]\n"
     ]
    },
    {
     "name": "stdout",
     "output_type": "stream",
     "text": [
      "-------------------------------------------------\n",
      "Epoch: 0 Train mean loss: 1931.46987286\n",
      "Train Accuracy%:  66.62049861495845 == 11544 / 17328\n",
      "-------------------------------------------------\n",
      "Model saved at: saved_models//Aug_01_04_56_pm__model_ShuffleNet2//mymodel_0.pth\n",
      "Epoch [1/25], Loss: 0.8917\n"
     ]
    },
    {
     "name": "stderr",
     "output_type": "stream",
     "text": [
      "Epoch 1/25: 100%|██████████| 271/271 [00:08<00:00, 32.19it/s, Validation Loss=0.605]\n"
     ]
    },
    {
     "name": "stdout",
     "output_type": "stream",
     "text": [
      "Epoch [1/25], Loss: 0.6047\n",
      "-------------------------------------------------\n",
      "Epoch: 0 Val mean loss: 163.88361165\n",
      "valiation Accuracy%:  77.84956160590679 == 1687 / 2167\n",
      "-------------------------------------------------\n"
     ]
    },
    {
     "name": "stderr",
     "output_type": "stream",
     "text": [
      "Epoch 2/25: 100%|██████████| 2166/2166 [01:49<00:00, 19.78it/s, Loss=0.614]\n"
     ]
    },
    {
     "name": "stdout",
     "output_type": "stream",
     "text": [
      "-------------------------------------------------\n",
      "Epoch: 1 Train mean loss: 1330.38248047\n",
      "Train Accuracy%:  78.62419205909511 == 13624 / 17328\n",
      "-------------------------------------------------\n",
      "Model saved at: saved_models//Aug_01_04_56_pm__model_ShuffleNet2//mymodel_1.pth\n",
      "Epoch [2/25], Loss: 0.6142\n"
     ]
    },
    {
     "name": "stderr",
     "output_type": "stream",
     "text": [
      "Epoch 2/25: 100%|██████████| 271/271 [00:08<00:00, 32.03it/s, Validation Loss=0.483]\n"
     ]
    },
    {
     "name": "stdout",
     "output_type": "stream",
     "text": [
      "Epoch [2/25], Loss: 0.4832\n",
      "-------------------------------------------------\n",
      "Epoch: 1 Val mean loss: 130.94196017\n",
      "valiation Accuracy%:  82.83341024457776 == 1795 / 2167\n",
      "-------------------------------------------------\n"
     ]
    },
    {
     "name": "stderr",
     "output_type": "stream",
     "text": [
      "Epoch 3/25: 100%|██████████| 2166/2166 [01:48<00:00, 20.03it/s, Loss=0.459]\n"
     ]
    },
    {
     "name": "stdout",
     "output_type": "stream",
     "text": [
      "-------------------------------------------------\n",
      "Epoch: 2 Train mean loss: 994.64124816\n",
      "Train Accuracy%:  84.06048014773776 == 14566 / 17328\n",
      "-------------------------------------------------\n",
      "Model saved at: saved_models//Aug_01_04_56_pm__model_ShuffleNet2//mymodel_2.pth\n",
      "Epoch [3/25], Loss: 0.4592\n"
     ]
    },
    {
     "name": "stderr",
     "output_type": "stream",
     "text": [
      "Epoch 3/25: 100%|██████████| 271/271 [00:08<00:00, 32.67it/s, Validation Loss=0.404]\n"
     ]
    },
    {
     "name": "stdout",
     "output_type": "stream",
     "text": [
      "Epoch [3/25], Loss: 0.4042\n",
      "-------------------------------------------------\n",
      "Epoch: 2 Val mean loss: 109.53318439\n",
      "valiation Accuracy%:  85.1407475772958 == 1845 / 2167\n",
      "-------------------------------------------------\n"
     ]
    },
    {
     "name": "stderr",
     "output_type": "stream",
     "text": [
      "Epoch 4/25: 100%|██████████| 2166/2166 [01:48<00:00, 20.04it/s, Loss=0.381]\n"
     ]
    },
    {
     "name": "stdout",
     "output_type": "stream",
     "text": [
      "-------------------------------------------------\n",
      "Epoch: 3 Train mean loss: 824.94232289\n",
      "Train Accuracy%:  86.87096029547553 == 15053 / 17328\n",
      "-------------------------------------------------\n",
      "Model saved at: saved_models//Aug_01_04_56_pm__model_ShuffleNet2//mymodel_3.pth\n",
      "Epoch [4/25], Loss: 0.3809\n"
     ]
    },
    {
     "name": "stderr",
     "output_type": "stream",
     "text": [
      "Epoch 4/25: 100%|██████████| 271/271 [00:08<00:00, 32.20it/s, Validation Loss=0.41] \n"
     ]
    },
    {
     "name": "stdout",
     "output_type": "stream",
     "text": [
      "Epoch [4/25], Loss: 0.4101\n",
      "-------------------------------------------------\n",
      "Epoch: 3 Val mean loss: 111.13715495\n",
      "valiation Accuracy%:  85.3714813105676 == 1850 / 2167\n",
      "-------------------------------------------------\n"
     ]
    },
    {
     "name": "stderr",
     "output_type": "stream",
     "text": [
      "Epoch 5/25: 100%|██████████| 2166/2166 [01:47<00:00, 20.09it/s, Loss=0.32] \n"
     ]
    },
    {
     "name": "stdout",
     "output_type": "stream",
     "text": [
      "-------------------------------------------------\n",
      "Epoch: 4 Train mean loss: 693.24776951\n",
      "Train Accuracy%:  88.89081255771006 == 15403 / 17328\n",
      "-------------------------------------------------\n",
      "Model saved at: saved_models//Aug_01_04_56_pm__model_ShuffleNet2//mymodel_4.pth\n",
      "Epoch [5/25], Loss: 0.3201\n"
     ]
    },
    {
     "name": "stderr",
     "output_type": "stream",
     "text": [
      "Epoch 5/25: 100%|██████████| 271/271 [00:08<00:00, 32.30it/s, Validation Loss=0.331]\n"
     ]
    },
    {
     "name": "stdout",
     "output_type": "stream",
     "text": [
      "Epoch [5/25], Loss: 0.3310\n",
      "-------------------------------------------------\n",
      "Epoch: 4 Val mean loss: 89.68768189\n",
      "valiation Accuracy%:  89.06322104291648 == 1930 / 2167\n",
      "-------------------------------------------------\n"
     ]
    },
    {
     "name": "stderr",
     "output_type": "stream",
     "text": [
      "Epoch 6/25: 100%|██████████| 2166/2166 [01:48<00:00, 19.87it/s, Loss=0.274]\n"
     ]
    },
    {
     "name": "stdout",
     "output_type": "stream",
     "text": [
      "-------------------------------------------------\n",
      "Epoch: 5 Train mean loss: 592.87059109\n",
      "Train Accuracy%:  90.54709141274238 == 15690 / 17328\n",
      "-------------------------------------------------\n",
      "Model saved at: saved_models//Aug_01_04_56_pm__model_ShuffleNet2//mymodel_5.pth\n",
      "Epoch [6/25], Loss: 0.2737\n"
     ]
    },
    {
     "name": "stderr",
     "output_type": "stream",
     "text": [
      "Epoch 6/25: 100%|██████████| 271/271 [00:08<00:00, 32.79it/s, Validation Loss=0.315]\n"
     ]
    },
    {
     "name": "stdout",
     "output_type": "stream",
     "text": [
      "Epoch [6/25], Loss: 0.3148\n",
      "-------------------------------------------------\n",
      "Epoch: 5 Val mean loss: 85.29972877\n",
      "valiation Accuracy%:  90.03230272265806 == 1951 / 2167\n",
      "-------------------------------------------------\n"
     ]
    },
    {
     "name": "stderr",
     "output_type": "stream",
     "text": [
      "Epoch 7/25: 100%|██████████| 2166/2166 [01:48<00:00, 20.00it/s, Loss=0.238]\n"
     ]
    },
    {
     "name": "stdout",
     "output_type": "stream",
     "text": [
      "-------------------------------------------------\n",
      "Epoch: 6 Train mean loss: 515.56556320\n",
      "Train Accuracy%:  91.78208679593722 == 15904 / 17328\n",
      "-------------------------------------------------\n",
      "Model saved at: saved_models//Aug_01_04_56_pm__model_ShuffleNet2//mymodel_6.pth\n",
      "Epoch [7/25], Loss: 0.2380\n"
     ]
    },
    {
     "name": "stderr",
     "output_type": "stream",
     "text": [
      "Epoch 7/25: 100%|██████████| 271/271 [00:08<00:00, 32.80it/s, Validation Loss=0.363]\n"
     ]
    },
    {
     "name": "stdout",
     "output_type": "stream",
     "text": [
      "Epoch [7/25], Loss: 0.3632\n",
      "-------------------------------------------------\n",
      "Epoch: 6 Val mean loss: 98.43174634\n",
      "valiation Accuracy%:  89.66312874942317 == 1943 / 2167\n",
      "-------------------------------------------------\n"
     ]
    },
    {
     "name": "stderr",
     "output_type": "stream",
     "text": [
      "Epoch 8/25: 100%|██████████| 2166/2166 [01:48<00:00, 20.05it/s, Loss=0.209]\n"
     ]
    },
    {
     "name": "stdout",
     "output_type": "stream",
     "text": [
      "-------------------------------------------------\n",
      "Epoch: 7 Train mean loss: 452.79891570\n",
      "Train Accuracy%:  92.81509695290859 == 16083 / 17328\n",
      "-------------------------------------------------\n",
      "Model saved at: saved_models//Aug_01_04_56_pm__model_ShuffleNet2//mymodel_7.pth\n",
      "Epoch [8/25], Loss: 0.2090\n"
     ]
    },
    {
     "name": "stderr",
     "output_type": "stream",
     "text": [
      "Epoch 8/25: 100%|██████████| 271/271 [00:08<00:00, 32.54it/s, Validation Loss=0.311]\n"
     ]
    },
    {
     "name": "stdout",
     "output_type": "stream",
     "text": [
      "Epoch [8/25], Loss: 0.3108\n",
      "-------------------------------------------------\n",
      "Epoch: 7 Val mean loss: 84.23034940\n",
      "valiation Accuracy%:  90.58606368251039 == 1963 / 2167\n",
      "-------------------------------------------------\n"
     ]
    },
    {
     "name": "stderr",
     "output_type": "stream",
     "text": [
      "Epoch 9/25: 100%|██████████| 2166/2166 [01:48<00:00, 19.90it/s, Loss=0.183]\n"
     ]
    },
    {
     "name": "stdout",
     "output_type": "stream",
     "text": [
      "-------------------------------------------------\n",
      "Epoch: 8 Train mean loss: 396.52369672\n",
      "Train Accuracy%:  93.75577100646353 == 16246 / 17328\n",
      "-------------------------------------------------\n",
      "Model saved at: saved_models//Aug_01_04_56_pm__model_ShuffleNet2//mymodel_8.pth\n",
      "Epoch [9/25], Loss: 0.1831\n"
     ]
    },
    {
     "name": "stderr",
     "output_type": "stream",
     "text": [
      "Epoch 9/25: 100%|██████████| 271/271 [00:08<00:00, 32.19it/s, Validation Loss=0.373]\n"
     ]
    },
    {
     "name": "stdout",
     "output_type": "stream",
     "text": [
      "Epoch [9/25], Loss: 0.3726\n",
      "-------------------------------------------------\n",
      "Epoch: 8 Val mean loss: 100.96488065\n",
      "valiation Accuracy%:  89.24780802953391 == 1934 / 2167\n",
      "-------------------------------------------------\n"
     ]
    },
    {
     "name": "stderr",
     "output_type": "stream",
     "text": [
      "Epoch 10/25: 100%|██████████| 2166/2166 [01:48<00:00, 19.98it/s, Loss=0.169]\n"
     ]
    },
    {
     "name": "stdout",
     "output_type": "stream",
     "text": [
      "-------------------------------------------------\n",
      "Epoch: 9 Train mean loss: 365.67720864\n",
      "Train Accuracy%:  94.26939058171745 == 16335 / 17328\n",
      "-------------------------------------------------\n",
      "Model saved at: saved_models//Aug_01_04_56_pm__model_ShuffleNet2//mymodel_9.pth\n",
      "Epoch [10/25], Loss: 0.1688\n"
     ]
    },
    {
     "name": "stderr",
     "output_type": "stream",
     "text": [
      "Epoch 10/25: 100%|██████████| 271/271 [00:08<00:00, 32.81it/s, Validation Loss=0.376]\n"
     ]
    },
    {
     "name": "stdout",
     "output_type": "stream",
     "text": [
      "Epoch [10/25], Loss: 0.3758\n",
      "-------------------------------------------------\n",
      "Epoch: 9 Val mean loss: 101.84432722\n",
      "valiation Accuracy%:  89.20166128287956 == 1933 / 2167\n",
      "-------------------------------------------------\n"
     ]
    },
    {
     "name": "stderr",
     "output_type": "stream",
     "text": [
      "Epoch 11/25: 100%|██████████| 2166/2166 [01:48<00:00, 19.89it/s, Loss=0.146]\n"
     ]
    },
    {
     "name": "stdout",
     "output_type": "stream",
     "text": [
      "-------------------------------------------------\n",
      "Epoch: 10 Train mean loss: 316.96871763\n",
      "Train Accuracy%:  94.9157433056325 == 16447 / 17328\n",
      "-------------------------------------------------\n",
      "Model saved at: saved_models//Aug_01_04_56_pm__model_ShuffleNet2//mymodel_10.pth\n",
      "Epoch [11/25], Loss: 0.1463\n"
     ]
    },
    {
     "name": "stderr",
     "output_type": "stream",
     "text": [
      "Epoch 11/25: 100%|██████████| 271/271 [00:08<00:00, 32.77it/s, Validation Loss=0.36] \n"
     ]
    },
    {
     "name": "stdout",
     "output_type": "stream",
     "text": [
      "Epoch [11/25], Loss: 0.3603\n",
      "-------------------------------------------------\n",
      "Epoch: 10 Val mean loss: 97.65140968\n",
      "valiation Accuracy%:  89.52468850946008 == 1940 / 2167\n",
      "-------------------------------------------------\n"
     ]
    },
    {
     "name": "stderr",
     "output_type": "stream",
     "text": [
      "Epoch 12/25: 100%|██████████| 2166/2166 [01:47<00:00, 20.10it/s, Loss=0.132]\n"
     ]
    },
    {
     "name": "stdout",
     "output_type": "stream",
     "text": [
      "-------------------------------------------------\n",
      "Epoch: 11 Train mean loss: 286.71681858\n",
      "Train Accuracy%:  95.53901200369344 == 16555 / 17328\n",
      "-------------------------------------------------\n",
      "Model saved at: saved_models//Aug_01_04_56_pm__model_ShuffleNet2//mymodel_11.pth\n",
      "Epoch [12/25], Loss: 0.1324\n"
     ]
    },
    {
     "name": "stderr",
     "output_type": "stream",
     "text": [
      "Epoch 12/25: 100%|██████████| 271/271 [00:08<00:00, 32.93it/s, Validation Loss=0.383]\n"
     ]
    },
    {
     "name": "stdout",
     "output_type": "stream",
     "text": [
      "Epoch [12/25], Loss: 0.3827\n",
      "-------------------------------------------------\n",
      "Epoch: 11 Val mean loss: 103.72422638\n",
      "valiation Accuracy%:  89.61698200276881 == 1942 / 2167\n",
      "-------------------------------------------------\n"
     ]
    },
    {
     "name": "stderr",
     "output_type": "stream",
     "text": [
      "Epoch 13/25: 100%|██████████| 2166/2166 [01:48<00:00, 19.97it/s, Loss=0.119]\n"
     ]
    },
    {
     "name": "stdout",
     "output_type": "stream",
     "text": [
      "-------------------------------------------------\n",
      "Epoch: 12 Train mean loss: 256.83968525\n",
      "Train Accuracy%:  95.8679593721145 == 16612 / 17328\n",
      "-------------------------------------------------\n",
      "Model saved at: saved_models//Aug_01_04_56_pm__model_ShuffleNet2//mymodel_12.pth\n",
      "Epoch [13/25], Loss: 0.1186\n"
     ]
    },
    {
     "name": "stderr",
     "output_type": "stream",
     "text": [
      "Epoch 13/25: 100%|██████████| 271/271 [00:08<00:00, 32.59it/s, Validation Loss=0.447]\n"
     ]
    },
    {
     "name": "stdout",
     "output_type": "stream",
     "text": [
      "Epoch [13/25], Loss: 0.4467\n",
      "-------------------------------------------------\n",
      "Epoch: 12 Val mean loss: 121.06642167\n",
      "valiation Accuracy%:  88.04799261652053 == 1908 / 2167\n",
      "-------------------------------------------------\n"
     ]
    },
    {
     "name": "stderr",
     "output_type": "stream",
     "text": [
      "Epoch 14/25: 100%|██████████| 2166/2166 [01:47<00:00, 20.13it/s, Loss=0.107]\n"
     ]
    },
    {
     "name": "stdout",
     "output_type": "stream",
     "text": [
      "-------------------------------------------------\n",
      "Epoch: 13 Train mean loss: 231.39544993\n",
      "Train Accuracy%:  96.15650969529086 == 16662 / 17328\n",
      "-------------------------------------------------\n",
      "Model saved at: saved_models//Aug_01_04_56_pm__model_ShuffleNet2//mymodel_13.pth\n",
      "Epoch [14/25], Loss: 0.1068\n"
     ]
    },
    {
     "name": "stderr",
     "output_type": "stream",
     "text": [
      "Epoch 14/25: 100%|██████████| 271/271 [00:08<00:00, 32.04it/s, Validation Loss=0.371]\n"
     ]
    },
    {
     "name": "stdout",
     "output_type": "stream",
     "text": [
      "Epoch [14/25], Loss: 0.3712\n",
      "-------------------------------------------------\n",
      "Epoch: 13 Val mean loss: 100.59136546\n",
      "valiation Accuracy%:  90.30918320258422 == 1957 / 2167\n",
      "-------------------------------------------------\n"
     ]
    },
    {
     "name": "stderr",
     "output_type": "stream",
     "text": [
      "Epoch 15/25: 100%|██████████| 2166/2166 [01:48<00:00, 20.03it/s, Loss=0.0953]\n"
     ]
    },
    {
     "name": "stdout",
     "output_type": "stream",
     "text": [
      "-------------------------------------------------\n",
      "Epoch: 14 Train mean loss: 206.35027923\n",
      "Train Accuracy%:  96.62396121883657 == 16743 / 17328\n",
      "-------------------------------------------------\n",
      "Model saved at: saved_models//Aug_01_04_56_pm__model_ShuffleNet2//mymodel_14.pth\n",
      "Epoch [15/25], Loss: 0.0953\n"
     ]
    },
    {
     "name": "stderr",
     "output_type": "stream",
     "text": [
      "Epoch 15/25: 100%|██████████| 271/271 [00:08<00:00, 32.61it/s, Validation Loss=0.396]\n"
     ]
    },
    {
     "name": "stdout",
     "output_type": "stream",
     "text": [
      "Epoch [15/25], Loss: 0.3955\n",
      "-------------------------------------------------\n",
      "Epoch: 14 Val mean loss: 107.18446248\n",
      "valiation Accuracy%:  89.84771573604061 == 1947 / 2167\n",
      "-------------------------------------------------\n"
     ]
    },
    {
     "name": "stderr",
     "output_type": "stream",
     "text": [
      "Epoch 16/25: 100%|██████████| 2166/2166 [01:48<00:00, 20.03it/s, Loss=0.0955]\n"
     ]
    },
    {
     "name": "stdout",
     "output_type": "stream",
     "text": [
      "-------------------------------------------------\n",
      "Epoch: 15 Train mean loss: 206.86037300\n",
      "Train Accuracy%:  96.75669436749769 == 16766 / 17328\n",
      "-------------------------------------------------\n",
      "Model saved at: saved_models//Aug_01_04_56_pm__model_ShuffleNet2//mymodel_15.pth\n",
      "Epoch [16/25], Loss: 0.0955\n"
     ]
    },
    {
     "name": "stderr",
     "output_type": "stream",
     "text": [
      "Epoch 16/25: 100%|██████████| 271/271 [00:08<00:00, 32.51it/s, Validation Loss=0.418]\n"
     ]
    },
    {
     "name": "stdout",
     "output_type": "stream",
     "text": [
      "Epoch [16/25], Loss: 0.4181\n",
      "-------------------------------------------------\n",
      "Epoch: 15 Val mean loss: 113.29899041\n",
      "valiation Accuracy%:  89.47854176280572 == 1939 / 2167\n",
      "-------------------------------------------------\n"
     ]
    },
    {
     "name": "stderr",
     "output_type": "stream",
     "text": [
      "Epoch 17/25: 100%|██████████| 2166/2166 [01:49<00:00, 19.78it/s, Loss=0.0875]\n"
     ]
    },
    {
     "name": "stdout",
     "output_type": "stream",
     "text": [
      "-------------------------------------------------\n",
      "Epoch: 16 Train mean loss: 189.43350273\n",
      "Train Accuracy%:  96.93559556786704 == 16797 / 17328\n",
      "-------------------------------------------------\n",
      "Model saved at: saved_models//Aug_01_04_56_pm__model_ShuffleNet2//mymodel_16.pth\n",
      "Epoch [17/25], Loss: 0.0875\n"
     ]
    },
    {
     "name": "stderr",
     "output_type": "stream",
     "text": [
      "Epoch 17/25: 100%|██████████| 271/271 [00:08<00:00, 32.07it/s, Validation Loss=0.357]\n"
     ]
    },
    {
     "name": "stdout",
     "output_type": "stream",
     "text": [
      "Epoch [17/25], Loss: 0.3567\n",
      "-------------------------------------------------\n",
      "Epoch: 16 Val mean loss: 96.67342624\n",
      "valiation Accuracy%:  90.35532994923858 == 1958 / 2167\n",
      "-------------------------------------------------\n"
     ]
    },
    {
     "name": "stderr",
     "output_type": "stream",
     "text": [
      "Epoch 18/25: 100%|██████████| 2166/2166 [01:47<00:00, 20.07it/s, Loss=0.0824]\n"
     ]
    },
    {
     "name": "stdout",
     "output_type": "stream",
     "text": [
      "-------------------------------------------------\n",
      "Epoch: 17 Train mean loss: 178.52442315\n",
      "Train Accuracy%:  97.09141274238227 == 16824 / 17328\n",
      "-------------------------------------------------\n",
      "Model saved at: saved_models//Aug_01_04_56_pm__model_ShuffleNet2//mymodel_17.pth\n",
      "Epoch [18/25], Loss: 0.0824\n"
     ]
    },
    {
     "name": "stderr",
     "output_type": "stream",
     "text": [
      "Epoch 18/25: 100%|██████████| 271/271 [00:08<00:00, 31.89it/s, Validation Loss=0.431]\n"
     ]
    },
    {
     "name": "stdout",
     "output_type": "stream",
     "text": [
      "Epoch [18/25], Loss: 0.4313\n",
      "-------------------------------------------------\n",
      "Epoch: 17 Val mean loss: 116.88262845\n",
      "valiation Accuracy%:  89.61698200276881 == 1942 / 2167\n",
      "-------------------------------------------------\n"
     ]
    },
    {
     "name": "stderr",
     "output_type": "stream",
     "text": [
      "Epoch 19/25: 100%|██████████| 2166/2166 [01:48<00:00, 20.03it/s, Loss=0.077] \n"
     ]
    },
    {
     "name": "stdout",
     "output_type": "stream",
     "text": [
      "-------------------------------------------------\n",
      "Epoch: 18 Train mean loss: 166.87335922\n",
      "Train Accuracy%:  97.32225300092337 == 16864 / 17328\n",
      "-------------------------------------------------\n",
      "Model saved at: saved_models//Aug_01_04_56_pm__model_ShuffleNet2//mymodel_18.pth\n",
      "Epoch [19/25], Loss: 0.0770\n"
     ]
    },
    {
     "name": "stderr",
     "output_type": "stream",
     "text": [
      "Epoch 19/25: 100%|██████████| 271/271 [00:08<00:00, 32.13it/s, Validation Loss=0.398]\n"
     ]
    },
    {
     "name": "stdout",
     "output_type": "stream",
     "text": [
      "Epoch [19/25], Loss: 0.3979\n",
      "-------------------------------------------------\n",
      "Epoch: 18 Val mean loss: 107.82474201\n",
      "valiation Accuracy%:  90.35532994923858 == 1958 / 2167\n",
      "-------------------------------------------------\n"
     ]
    },
    {
     "name": "stderr",
     "output_type": "stream",
     "text": [
      "Epoch 20/25: 100%|██████████| 2166/2166 [01:49<00:00, 19.83it/s, Loss=0.076] \n"
     ]
    },
    {
     "name": "stdout",
     "output_type": "stream",
     "text": [
      "-------------------------------------------------\n",
      "Epoch: 19 Train mean loss: 164.54223291\n",
      "Train Accuracy%:  97.34533702677747 == 16868 / 17328\n",
      "-------------------------------------------------\n",
      "Model saved at: saved_models//Aug_01_04_56_pm__model_ShuffleNet2//mymodel_19.pth\n",
      "Epoch [20/25], Loss: 0.0760\n"
     ]
    },
    {
     "name": "stderr",
     "output_type": "stream",
     "text": [
      "Epoch 20/25: 100%|██████████| 271/271 [00:08<00:00, 32.25it/s, Validation Loss=0.412]\n"
     ]
    },
    {
     "name": "stdout",
     "output_type": "stream",
     "text": [
      "Epoch [20/25], Loss: 0.4124\n",
      "-------------------------------------------------\n",
      "Epoch: 19 Val mean loss: 111.74705812\n",
      "valiation Accuracy%:  90.6783571758191 == 1965 / 2167\n",
      "-------------------------------------------------\n"
     ]
    },
    {
     "name": "stderr",
     "output_type": "stream",
     "text": [
      "Epoch 21/25: 100%|██████████| 2166/2166 [01:47<00:00, 20.11it/s, Loss=0.0659]\n"
     ]
    },
    {
     "name": "stdout",
     "output_type": "stream",
     "text": [
      "-------------------------------------------------\n",
      "Epoch: 20 Train mean loss: 142.79076655\n",
      "Train Accuracy%:  97.76662049861496 == 16941 / 17328\n",
      "-------------------------------------------------\n",
      "Model saved at: saved_models//Aug_01_04_56_pm__model_ShuffleNet2//mymodel_20.pth\n",
      "Epoch [21/25], Loss: 0.0659\n"
     ]
    },
    {
     "name": "stderr",
     "output_type": "stream",
     "text": [
      "Epoch 21/25: 100%|██████████| 271/271 [00:08<00:00, 32.51it/s, Validation Loss=0.442]\n"
     ]
    },
    {
     "name": "stdout",
     "output_type": "stream",
     "text": [
      "Epoch [21/25], Loss: 0.4417\n",
      "-------------------------------------------------\n",
      "Epoch: 20 Val mean loss: 119.70917143\n",
      "valiation Accuracy%:  89.98615597600369 == 1950 / 2167\n",
      "-------------------------------------------------\n"
     ]
    },
    {
     "name": "stderr",
     "output_type": "stream",
     "text": [
      "Epoch 22/25: 100%|██████████| 2166/2166 [01:48<00:00, 19.88it/s, Loss=0.0645]\n"
     ]
    },
    {
     "name": "stdout",
     "output_type": "stream",
     "text": [
      "-------------------------------------------------\n",
      "Epoch: 21 Train mean loss: 139.60472529\n",
      "Train Accuracy%:  97.72622345337027 == 16934 / 17328\n",
      "-------------------------------------------------\n",
      "Model saved at: saved_models//Aug_01_04_56_pm__model_ShuffleNet2//mymodel_21.pth\n",
      "Epoch [22/25], Loss: 0.0645\n"
     ]
    },
    {
     "name": "stderr",
     "output_type": "stream",
     "text": [
      "Epoch 22/25: 100%|██████████| 271/271 [00:08<00:00, 31.66it/s, Validation Loss=0.378]\n"
     ]
    },
    {
     "name": "stdout",
     "output_type": "stream",
     "text": [
      "Epoch [22/25], Loss: 0.3777\n",
      "-------------------------------------------------\n",
      "Epoch: 21 Val mean loss: 102.35271401\n",
      "valiation Accuracy%:  91.5089986155976 == 1983 / 2167\n",
      "-------------------------------------------------\n"
     ]
    },
    {
     "name": "stderr",
     "output_type": "stream",
     "text": [
      "Epoch 23/25: 100%|██████████| 2166/2166 [01:49<00:00, 19.87it/s, Loss=0.0596]\n"
     ]
    },
    {
     "name": "stdout",
     "output_type": "stream",
     "text": [
      "-------------------------------------------------\n",
      "Epoch: 22 Train mean loss: 129.04662595\n",
      "Train Accuracy%:  97.93975069252078 == 16971 / 17328\n",
      "-------------------------------------------------\n",
      "Model saved at: saved_models//Aug_01_04_56_pm__model_ShuffleNet2//mymodel_22.pth\n",
      "Epoch [23/25], Loss: 0.0596\n"
     ]
    },
    {
     "name": "stderr",
     "output_type": "stream",
     "text": [
      "Epoch 23/25: 100%|██████████| 271/271 [00:08<00:00, 32.35it/s, Validation Loss=0.438]\n"
     ]
    },
    {
     "name": "stdout",
     "output_type": "stream",
     "text": [
      "Epoch [23/25], Loss: 0.4382\n",
      "-------------------------------------------------\n",
      "Epoch: 22 Val mean loss: 118.75418876\n",
      "valiation Accuracy%:  90.53991693585603 == 1962 / 2167\n",
      "-------------------------------------------------\n"
     ]
    },
    {
     "name": "stderr",
     "output_type": "stream",
     "text": [
      "Epoch 24/25: 100%|██████████| 2166/2166 [01:48<00:00, 19.94it/s, Loss=0.0602]\n"
     ]
    },
    {
     "name": "stdout",
     "output_type": "stream",
     "text": [
      "-------------------------------------------------\n",
      "Epoch: 23 Train mean loss: 130.31741173\n",
      "Train Accuracy%:  97.91089566020314 == 16966 / 17328\n",
      "-------------------------------------------------\n",
      "Model saved at: saved_models//Aug_01_04_56_pm__model_ShuffleNet2//mymodel_23.pth\n",
      "Epoch [24/25], Loss: 0.0602\n"
     ]
    },
    {
     "name": "stderr",
     "output_type": "stream",
     "text": [
      "Epoch 24/25: 100%|██████████| 271/271 [00:08<00:00, 32.35it/s, Validation Loss=0.393]\n"
     ]
    },
    {
     "name": "stdout",
     "output_type": "stream",
     "text": [
      "Epoch [24/25], Loss: 0.3932\n",
      "-------------------------------------------------\n",
      "Epoch: 23 Val mean loss: 106.56590956\n",
      "valiation Accuracy%:  90.72450392247346 == 1966 / 2167\n",
      "-------------------------------------------------\n"
     ]
    },
    {
     "name": "stderr",
     "output_type": "stream",
     "text": [
      "Epoch 25/25: 100%|██████████| 2166/2166 [01:48<00:00, 19.95it/s, Loss=0.0581]\n"
     ]
    },
    {
     "name": "stdout",
     "output_type": "stream",
     "text": [
      "-------------------------------------------------\n",
      "Epoch: 24 Train mean loss: 125.77068136\n",
      "Train Accuracy%:  97.93397968605724 == 16970 / 17328\n",
      "-------------------------------------------------\n",
      "Model saved at: saved_models//Aug_01_04_56_pm__model_ShuffleNet2//mymodel_24.pth\n",
      "Epoch [25/25], Loss: 0.0581\n"
     ]
    },
    {
     "name": "stderr",
     "output_type": "stream",
     "text": [
      "Epoch 25/25: 100%|██████████| 271/271 [00:08<00:00, 32.59it/s, Validation Loss=0.423]"
     ]
    },
    {
     "name": "stdout",
     "output_type": "stream",
     "text": [
      "Epoch [25/25], Loss: 0.4235\n",
      "-------------------------------------------------\n",
      "Epoch: 24 Val mean loss: 114.76069388\n",
      "valiation Accuracy%:  91.2782648823258 == 1978 / 2167\n",
      "-------------------------------------------------\n"
     ]
    },
    {
     "name": "stderr",
     "output_type": "stream",
     "text": [
      "\n"
     ]
    }
   ],
   "source": [
    "# Train your model\n",
    "# Train your model\n",
    "from tqdm import tqdm\n",
    "\n",
    "# Define your training function\n",
    "model.train()\n",
    "train_losses = []  # List to store training losses\n",
    "val_losses = []  # List to store validaion losses\n",
    "train_accuracy=[]\n",
    "validation_accuracy=[]\n",
    "\n",
    "num_epochs=25\n",
    "\n",
    "\n",
    "\n",
    "for epoch in range(num_epochs):\n",
    "    running_loss = 0.0\n",
    "    validation_loss=0.0\n",
    "    \n",
    "    y_true_train = []\n",
    "    y_pred_train = []\n",
    "\n",
    "\n",
    "    # Create tqdm progress bar\n",
    "    progress_bar = tqdm(enumerate(train_loader), total=len(train_loader), desc=f'Epoch {epoch + 1}/{num_epochs}')\n",
    "\n",
    "    for batch_idx, (images, labels) in progress_bar:\n",
    "        images = images.to(device)\n",
    "        labels = labels.to(device)\n",
    "        #images=images/255\n",
    "        #print(torch.unique(images))\n",
    "        optimizer.zero_grad()\n",
    "\n",
    "        outputs = model(images)\n",
    "        loss = criterion(outputs, labels)\n",
    "        loss.backward()\n",
    "        optimizer.step()\n",
    "\n",
    "        running_loss += loss.item()\n",
    "\n",
    "        y_pred_train.extend(outputs.detach().argmax(dim=-1).tolist())\n",
    "        y_true_train.extend(labels.detach().tolist())\n",
    "\n",
    "        \n",
    "        # Update progress bar description with current loss\n",
    "        progress_bar.set_postfix({'Loss': running_loss / (batch_idx + 1)})\n",
    "\n",
    "        \n",
    "    total_correct = len([True for x, y in zip(y_pred_train, y_true_train) if x==y])\n",
    "    total = len(y_pred_train)\n",
    "    accuracy = total_correct * 100 / total\n",
    "    train_accuracy.append(accuracy)\n",
    "\n",
    "    print(\"-------------------------------------------------\")\n",
    "    print(\"Epoch: {} Train mean loss: {:.8f}\".format(epoch, running_loss))\n",
    "    print(\"Train Accuracy%: \", accuracy, \"==\", total_correct, \"/\", total)\n",
    "    print(\"-------------------------------------------------\")\n",
    "        \n",
    "    save_path=directory+'/mymodel_'+str(epoch)+'.pth'\n",
    "    torch.save(model.state_dict(), save_path)\n",
    "    print(f'Model saved at: {save_path}')\n",
    "\n",
    "    # storing the train losses\n",
    "    epoch_loss = running_loss / len(train_loader)\n",
    "    train_losses.append(epoch_loss)\n",
    "\n",
    "    print(f'Epoch [{epoch + 1}/{num_epochs}], Loss: {epoch_loss:.4f}')\n",
    "\n",
    "    progress_bar = tqdm(enumerate(val_dataloader), total=len(val_dataloader), desc=f'Epoch {epoch + 1}/{num_epochs}')\n",
    "\n",
    "    y_true_val = []\n",
    "    y_pred_val = []\n",
    "\n",
    "    \n",
    "    model.eval()\n",
    "    for batch_idx, (images, labels) in progress_bar:\n",
    "        images = images.to(device)\n",
    "        labels = labels.to(device)\n",
    "        #images=images/255\n",
    "        optimizer.zero_grad()\n",
    "\n",
    "        outputs = model(images)\n",
    "        loss = criterion(outputs, labels)\n",
    "\n",
    "        validation_loss += loss.item()\n",
    "\n",
    "        y_pred_val.extend(outputs.detach().argmax(dim=-1).tolist())\n",
    "        y_true_val.extend(labels.detach().tolist())\n",
    "\n",
    "        \n",
    "        \n",
    "        # Update progress bar description with current loss\n",
    "        progress_bar.set_postfix({'Validation Loss': validation_loss / (batch_idx + 1)})\n",
    "\n",
    "    # storing the validation losses\n",
    "\n",
    "    epoch_loss = validation_loss / len(val_dataloader)\n",
    "    val_losses.append(epoch_loss)\n",
    "\n",
    "    print(f'Epoch [{epoch + 1}/{num_epochs}], Loss: {epoch_loss:.4f}')\n",
    "    \n",
    "    total_correct = len([True for x, y in zip(y_pred_val, y_true_val) if x==y])\n",
    "    total = len(y_true_val)\n",
    "    accuracy = total_correct * 100 / total\n",
    "    validation_accuracy.append(accuracy)\n",
    "\n",
    "    print(\"-------------------------------------------------\")\n",
    "    print(\"Epoch: {} Val mean loss: {:.8f}\".format(epoch, validation_loss))\n",
    "    print(\"valiation Accuracy%: \", accuracy, \"==\", total_correct, \"/\", total)\n",
    "    print(\"-------------------------------------------------\")\n",
    "\n",
    "    import pandas as pd\n",
    "\n",
    "    loss_dic={\"training_loss\":train_losses,\n",
    "              \"val_loss\":val_losses,\n",
    "              \"train_accuracy\":train_accuracy,\n",
    "              \"validation_accuracy\":validation_accuracy}\n",
    "\n",
    "    df = pd.DataFrame.from_dict(loss_dic) \n",
    "    path=directory+'/loss.csv'\n",
    "    df.to_csv (path, index = False, header=True)"
   ]
  },
  {
   "cell_type": "code",
   "execution_count": 16,
   "id": "498c13b6",
   "metadata": {},
   "outputs": [
    {
     "data": {
      "image/png": "[encoded data removed]",
      "text/plain": [
       "<Figure size 432x288 with 1 Axes>"
      ]
     },
     "metadata": {
      "needs_background": "light"
     },
     "output_type": "display_data"
    }
   ],
   "source": [
    "import matplotlib.pyplot as plt\n",
    "\n",
    "# Plot training and validation losses\n",
    "plt.plot(range(1, len(train_losses) + 1), train_losses, label='Training Loss')\n",
    "plt.plot(range(1, len(val_losses) + 1), val_losses, label='Validation Loss')\n",
    "plt.xlabel('Epoch')\n",
    "plt.ylabel('Loss')\n",
    "plt.title('Training and Validation Loss Over Epochs')\n",
    "plt.legend()\n",
    "plt.show()"
   ]
  },
  {
   "cell_type": "code",
   "execution_count": 20,
   "id": "411b1b4e",
   "metadata": {},
   "outputs": [
    {
     "data": {
      "image/png": "[encoded data removed]",
      "text/plain": [
       "<Figure size 432x288 with 1 Axes>"
      ]
     },
     "metadata": {
      "needs_background": "light"
     },
     "output_type": "display_data"
    }
   ],
   "source": [
    "import matplotlib.pyplot as plt\n",
    "\n",
    "# Plot training and validation accuracies\n",
    "plt.plot(range(1, len(train_accuracy) + 1), train_accuracy, label='Training Loss')\n",
    "plt.plot(range(1, len(validation_accuracy) + 1), validation_accuracy, label='Validation Loss')\n",
    "plt.xlabel('Epoch')\n",
    "plt.ylabel('accuracy')\n",
    "plt.title('Training and Validation accuracies Over Epochs')\n",
    "plt.legend()\n",
    "plt.show()"
   ]
  },
  {
   "cell_type": "markdown",
   "id": "c1acbf4d",
   "metadata": {},
   "source": [
    "# Model Analysis"
   ]
  },
  {
   "cell_type": "code",
   "execution_count": 21,
   "id": "a3f524cb",
   "metadata": {},
   "outputs": [
    {
     "name": "stdout",
     "output_type": "stream",
     "text": [
      "----------------------------------------------------------------\n",
      "        Layer (type)               Output Shape         Param #\n",
      "================================================================\n",
      "            Conv2d-1         [-1, 24, 112, 112]             240\n",
      "         MaxPool2d-2           [-1, 24, 56, 56]               0\n",
      "            Conv2d-3           [-1, 24, 28, 28]             216\n",
      "       BatchNorm2d-4           [-1, 24, 28, 28]              48\n",
      "            Conv2d-5           [-1, 58, 28, 28]           1,392\n",
      "       BatchNorm2d-6           [-1, 58, 28, 28]             116\n",
      "              ReLU-7           [-1, 58, 28, 28]               0\n",
      "            Conv2d-8           [-1, 58, 56, 56]           1,392\n",
      "       BatchNorm2d-9           [-1, 58, 56, 56]             116\n",
      "             ReLU-10           [-1, 58, 56, 56]               0\n",
      "           Conv2d-11           [-1, 58, 28, 28]             522\n",
      "      BatchNorm2d-12           [-1, 58, 28, 28]             116\n",
      "           Conv2d-13           [-1, 58, 28, 28]           3,364\n",
      "      BatchNorm2d-14           [-1, 58, 28, 28]             116\n",
      "             ReLU-15           [-1, 58, 28, 28]               0\n",
      "     ShuffleBlock-16          [-1, 116, 28, 28]               0\n",
      "           Conv2d-17           [-1, 58, 28, 28]           3,364\n",
      "      BatchNorm2d-18           [-1, 58, 28, 28]             116\n",
      "             ReLU-19           [-1, 58, 28, 28]               0\n",
      "           Conv2d-20           [-1, 58, 28, 28]             522\n",
      "      BatchNorm2d-21           [-1, 58, 28, 28]             116\n",
      "           Conv2d-22           [-1, 58, 28, 28]           3,364\n",
      "      BatchNorm2d-23           [-1, 58, 28, 28]             116\n",
      "             ReLU-24           [-1, 58, 28, 28]               0\n",
      "     ShuffleBlock-25          [-1, 116, 28, 28]               0\n",
      "           Conv2d-26           [-1, 58, 28, 28]           3,364\n",
      "      BatchNorm2d-27           [-1, 58, 28, 28]             116\n",
      "             ReLU-28           [-1, 58, 28, 28]               0\n",
      "           Conv2d-29           [-1, 58, 28, 28]             522\n",
      "      BatchNorm2d-30           [-1, 58, 28, 28]             116\n",
      "           Conv2d-31           [-1, 58, 28, 28]           3,364\n",
      "      BatchNorm2d-32           [-1, 58, 28, 28]             116\n",
      "             ReLU-33           [-1, 58, 28, 28]               0\n",
      "     ShuffleBlock-34          [-1, 116, 28, 28]               0\n",
      "           Conv2d-35           [-1, 58, 28, 28]           3,364\n",
      "      BatchNorm2d-36           [-1, 58, 28, 28]             116\n",
      "             ReLU-37           [-1, 58, 28, 28]               0\n",
      "           Conv2d-38           [-1, 58, 28, 28]             522\n",
      "      BatchNorm2d-39           [-1, 58, 28, 28]             116\n",
      "           Conv2d-40           [-1, 58, 28, 28]           3,364\n",
      "      BatchNorm2d-41           [-1, 58, 28, 28]             116\n",
      "             ReLU-42           [-1, 58, 28, 28]               0\n",
      "     ShuffleBlock-43          [-1, 116, 28, 28]               0\n",
      "           Conv2d-44          [-1, 116, 14, 14]           1,044\n",
      "      BatchNorm2d-45          [-1, 116, 14, 14]             232\n",
      "           Conv2d-46          [-1, 116, 14, 14]          13,456\n",
      "      BatchNorm2d-47          [-1, 116, 14, 14]             232\n",
      "             ReLU-48          [-1, 116, 14, 14]               0\n",
      "           Conv2d-49          [-1, 116, 28, 28]          13,456\n",
      "      BatchNorm2d-50          [-1, 116, 28, 28]             232\n",
      "             ReLU-51          [-1, 116, 28, 28]               0\n",
      "           Conv2d-52          [-1, 116, 14, 14]           1,044\n",
      "      BatchNorm2d-53          [-1, 116, 14, 14]             232\n",
      "           Conv2d-54          [-1, 116, 14, 14]          13,456\n",
      "      BatchNorm2d-55          [-1, 116, 14, 14]             232\n",
      "             ReLU-56          [-1, 116, 14, 14]               0\n",
      "     ShuffleBlock-57          [-1, 232, 14, 14]               0\n",
      "           Conv2d-58          [-1, 116, 14, 14]          13,456\n",
      "      BatchNorm2d-59          [-1, 116, 14, 14]             232\n",
      "             ReLU-60          [-1, 116, 14, 14]               0\n",
      "           Conv2d-61          [-1, 116, 14, 14]           1,044\n",
      "      BatchNorm2d-62          [-1, 116, 14, 14]             232\n",
      "           Conv2d-63          [-1, 116, 14, 14]          13,456\n",
      "      BatchNorm2d-64          [-1, 116, 14, 14]             232\n",
      "             ReLU-65          [-1, 116, 14, 14]               0\n",
      "     ShuffleBlock-66          [-1, 232, 14, 14]               0\n",
      "           Conv2d-67          [-1, 116, 14, 14]          13,456\n",
      "      BatchNorm2d-68          [-1, 116, 14, 14]             232\n",
      "             ReLU-69          [-1, 116, 14, 14]               0\n",
      "           Conv2d-70          [-1, 116, 14, 14]           1,044\n",
      "      BatchNorm2d-71          [-1, 116, 14, 14]             232\n",
      "           Conv2d-72          [-1, 116, 14, 14]          13,456\n",
      "      BatchNorm2d-73          [-1, 116, 14, 14]             232\n",
      "             ReLU-74          [-1, 116, 14, 14]               0\n",
      "     ShuffleBlock-75          [-1, 232, 14, 14]               0\n",
      "           Conv2d-76          [-1, 116, 14, 14]          13,456\n",
      "      BatchNorm2d-77          [-1, 116, 14, 14]             232\n",
      "             ReLU-78          [-1, 116, 14, 14]               0\n",
      "           Conv2d-79          [-1, 116, 14, 14]           1,044\n",
      "      BatchNorm2d-80          [-1, 116, 14, 14]             232\n",
      "           Conv2d-81          [-1, 116, 14, 14]          13,456\n",
      "      BatchNorm2d-82          [-1, 116, 14, 14]             232\n",
      "             ReLU-83          [-1, 116, 14, 14]               0\n",
      "     ShuffleBlock-84          [-1, 232, 14, 14]               0\n",
      "           Conv2d-85          [-1, 116, 14, 14]          13,456\n",
      "      BatchNorm2d-86          [-1, 116, 14, 14]             232\n",
      "             ReLU-87          [-1, 116, 14, 14]               0\n",
      "           Conv2d-88          [-1, 116, 14, 14]           1,044\n",
      "      BatchNorm2d-89          [-1, 116, 14, 14]             232\n",
      "           Conv2d-90          [-1, 116, 14, 14]          13,456\n",
      "      BatchNorm2d-91          [-1, 116, 14, 14]             232\n",
      "             ReLU-92          [-1, 116, 14, 14]               0\n",
      "     ShuffleBlock-93          [-1, 232, 14, 14]               0\n",
      "           Conv2d-94          [-1, 116, 14, 14]          13,456\n",
      "      BatchNorm2d-95          [-1, 116, 14, 14]             232\n",
      "             ReLU-96          [-1, 116, 14, 14]               0\n",
      "           Conv2d-97          [-1, 116, 14, 14]           1,044\n",
      "      BatchNorm2d-98          [-1, 116, 14, 14]             232\n",
      "           Conv2d-99          [-1, 116, 14, 14]          13,456\n",
      "     BatchNorm2d-100          [-1, 116, 14, 14]             232\n",
      "            ReLU-101          [-1, 116, 14, 14]               0\n",
      "    ShuffleBlock-102          [-1, 232, 14, 14]               0\n",
      "          Conv2d-103          [-1, 116, 14, 14]          13,456\n",
      "     BatchNorm2d-104          [-1, 116, 14, 14]             232\n",
      "            ReLU-105          [-1, 116, 14, 14]               0\n",
      "          Conv2d-106          [-1, 116, 14, 14]           1,044\n",
      "     BatchNorm2d-107          [-1, 116, 14, 14]             232\n",
      "          Conv2d-108          [-1, 116, 14, 14]          13,456\n",
      "     BatchNorm2d-109          [-1, 116, 14, 14]             232\n",
      "            ReLU-110          [-1, 116, 14, 14]               0\n",
      "    ShuffleBlock-111          [-1, 232, 14, 14]               0\n",
      "          Conv2d-112          [-1, 116, 14, 14]          13,456\n",
      "     BatchNorm2d-113          [-1, 116, 14, 14]             232\n",
      "            ReLU-114          [-1, 116, 14, 14]               0\n",
      "          Conv2d-115          [-1, 116, 14, 14]           1,044\n",
      "     BatchNorm2d-116          [-1, 116, 14, 14]             232\n",
      "          Conv2d-117          [-1, 116, 14, 14]          13,456\n",
      "     BatchNorm2d-118          [-1, 116, 14, 14]             232\n",
      "            ReLU-119          [-1, 116, 14, 14]               0\n",
      "    ShuffleBlock-120          [-1, 232, 14, 14]               0\n",
      "          Conv2d-121            [-1, 232, 7, 7]           2,088\n",
      "     BatchNorm2d-122            [-1, 232, 7, 7]             464\n",
      "          Conv2d-123            [-1, 232, 7, 7]          53,824\n",
      "     BatchNorm2d-124            [-1, 232, 7, 7]             464\n",
      "            ReLU-125            [-1, 232, 7, 7]               0\n",
      "          Conv2d-126          [-1, 232, 14, 14]          53,824\n",
      "     BatchNorm2d-127          [-1, 232, 14, 14]             464\n",
      "            ReLU-128          [-1, 232, 14, 14]               0\n",
      "          Conv2d-129            [-1, 232, 7, 7]           2,088\n",
      "     BatchNorm2d-130            [-1, 232, 7, 7]             464\n",
      "          Conv2d-131            [-1, 232, 7, 7]          53,824\n",
      "     BatchNorm2d-132            [-1, 232, 7, 7]             464\n",
      "            ReLU-133            [-1, 232, 7, 7]               0\n",
      "    ShuffleBlock-134            [-1, 464, 7, 7]               0\n",
      "          Conv2d-135            [-1, 232, 7, 7]          53,824\n",
      "     BatchNorm2d-136            [-1, 232, 7, 7]             464\n",
      "            ReLU-137            [-1, 232, 7, 7]               0\n",
      "          Conv2d-138            [-1, 232, 7, 7]           2,088\n",
      "     BatchNorm2d-139            [-1, 232, 7, 7]             464\n",
      "          Conv2d-140            [-1, 232, 7, 7]          53,824\n",
      "     BatchNorm2d-141            [-1, 232, 7, 7]             464\n",
      "            ReLU-142            [-1, 232, 7, 7]               0\n",
      "    ShuffleBlock-143            [-1, 464, 7, 7]               0\n",
      "          Conv2d-144            [-1, 232, 7, 7]          53,824\n",
      "     BatchNorm2d-145            [-1, 232, 7, 7]             464\n",
      "            ReLU-146            [-1, 232, 7, 7]               0\n",
      "          Conv2d-147            [-1, 232, 7, 7]           2,088\n",
      "     BatchNorm2d-148            [-1, 232, 7, 7]             464\n",
      "          Conv2d-149            [-1, 232, 7, 7]          53,824\n",
      "     BatchNorm2d-150            [-1, 232, 7, 7]             464\n",
      "            ReLU-151            [-1, 232, 7, 7]               0\n",
      "    ShuffleBlock-152            [-1, 464, 7, 7]               0\n",
      "          Conv2d-153            [-1, 232, 7, 7]          53,824\n",
      "     BatchNorm2d-154            [-1, 232, 7, 7]             464\n",
      "            ReLU-155            [-1, 232, 7, 7]               0\n",
      "          Conv2d-156            [-1, 232, 7, 7]           2,088\n",
      "     BatchNorm2d-157            [-1, 232, 7, 7]             464\n",
      "          Conv2d-158            [-1, 232, 7, 7]          53,824\n",
      "     BatchNorm2d-159            [-1, 232, 7, 7]             464\n",
      "            ReLU-160            [-1, 232, 7, 7]               0\n",
      "    ShuffleBlock-161            [-1, 464, 7, 7]               0\n",
      "          Conv2d-162           [-1, 1024, 7, 7]         475,136\n",
      "     BatchNorm2d-163           [-1, 1024, 7, 7]           2,048\n",
      "            ReLU-164           [-1, 1024, 7, 7]               0\n",
      "       AvgPool2d-165           [-1, 1024, 1, 1]               0\n",
      "          Linear-166                    [-1, 4]           4,100\n",
      "================================================================\n",
      "Total params: 1,257,248\n",
      "Trainable params: 1,257,248\n",
      "Non-trainable params: 0\n",
      "----------------------------------------------------------------\n",
      "Input size (MB): 0.19\n",
      "Forward/backward pass size (MB): 43.34\n",
      "Params size (MB): 4.80\n",
      "Estimated Total Size (MB): 48.33\n",
      "----------------------------------------------------------------\n"
     ]
    }
   ],
   "source": [
    "from torchsummary import summary\n",
    "\n",
    "summary(model, (1, 224, 224))"
   ]
  },
  {
   "cell_type": "code",
   "execution_count": 22,
   "id": "93ed283e",
   "metadata": {},
   "outputs": [
    {
     "name": "stdout",
     "output_type": "stream",
     "text": [
      "Computational complexity: 145.14 MMac\n",
      "Computational complexity: 290.28 MFlops\n",
      "Number of parameters: 1.26 M  \n"
     ]
    }
   ],
   "source": [
    "import re\n",
    "from ptflops import get_model_complexity_info\n",
    "from pthflops import count_ops\n",
    "\n",
    "macs, params = get_model_complexity_info(model, (1, 224,224), as_strings=True,print_per_layer_stat=False, verbose=False)\n",
    "# # Extract the numerical value\n",
    "flops = eval(re.findall(r'([\\d.]+)', macs)[0])*2\n",
    "# Extract the unit\n",
    "flops_unit = re.findall(r'([A-Za-z]+)', macs)[0][0]\n",
    "\n",
    "print('Computational complexity: {:<8}'.format(macs))\n",
    "print('Computational complexity: {} {}Flops'.format(flops, flops_unit))\n",
    "print('Number of parameters: {:<8}'.format(params))"
   ]
  },
  {
   "cell_type": "markdown",
   "id": "6c19b4c7",
   "metadata": {},
   "source": [
    "# Testing "
   ]
  },
  {
   "cell_type": "code",
   "execution_count": 23,
   "id": "622b6258",
   "metadata": {},
   "outputs": [
    {
     "name": "stdout",
     "output_type": "stream",
     "text": [
      "best_epoch: 7\n"
     ]
    }
   ],
   "source": [
    "# choosing the best model from validation loss.\n",
    "\n",
    "best_epoch=np.argmin(val_losses)\n",
    "print('best_epoch:',best_epoch)"
   ]
  },
  {
   "cell_type": "code",
   "execution_count": 24,
   "id": "aa6dc66c",
   "metadata": {},
   "outputs": [
    {
     "data": {
      "text/plain": [
       "ShuffleNet2(\n",
       "  (conv1): Conv2d(1, 24, kernel_size=(3, 3), stride=(2, 2), padding=(1, 1))\n",
       "  (maxpool): MaxPool2d(kernel_size=3, stride=2, padding=1, dilation=1, ceil_mode=False)\n",
       "  (stages): Sequential(\n",
       "    (0): ShuffleBlock(\n",
       "      (branch1): Sequential(\n",
       "        (0): Conv2d(24, 24, kernel_size=(3, 3), stride=(2, 2), padding=(1, 1), groups=24, bias=False)\n",
       "        (1): BatchNorm2d(24, eps=1e-05, momentum=0.1, affine=True, track_running_stats=True)\n",
       "        (2): Conv2d(24, 58, kernel_size=(1, 1), stride=(1, 1), bias=False)\n",
       "        (3): BatchNorm2d(58, eps=1e-05, momentum=0.1, affine=True, track_running_stats=True)\n",
       "        (4): ReLU(inplace=True)\n",
       "      )\n",
       "      (branch2): Sequential(\n",
       "        (0): Conv2d(24, 58, kernel_size=(1, 1), stride=(1, 1), bias=False)\n",
       "        (1): BatchNorm2d(58, eps=1e-05, momentum=0.1, affine=True, track_running_stats=True)\n",
       "        (2): ReLU(inplace=True)\n",
       "        (3): Conv2d(58, 58, kernel_size=(3, 3), stride=(2, 2), padding=(1, 1), groups=58, bias=False)\n",
       "        (4): BatchNorm2d(58, eps=1e-05, momentum=0.1, affine=True, track_running_stats=True)\n",
       "        (5): Conv2d(58, 58, kernel_size=(1, 1), stride=(1, 1), bias=False)\n",
       "        (6): BatchNorm2d(58, eps=1e-05, momentum=0.1, affine=True, track_running_stats=True)\n",
       "        (7): ReLU(inplace=True)\n",
       "      )\n",
       "    )\n",
       "    (1): ShuffleBlock(\n",
       "      (branch2): Sequential(\n",
       "        (0): Conv2d(58, 58, kernel_size=(1, 1), stride=(1, 1), bias=False)\n",
       "        (1): BatchNorm2d(58, eps=1e-05, momentum=0.1, affine=True, track_running_stats=True)\n",
       "        (2): ReLU(inplace=True)\n",
       "        (3): Conv2d(58, 58, kernel_size=(3, 3), stride=(1, 1), padding=(1, 1), groups=58, bias=False)\n",
       "        (4): BatchNorm2d(58, eps=1e-05, momentum=0.1, affine=True, track_running_stats=True)\n",
       "        (5): Conv2d(58, 58, kernel_size=(1, 1), stride=(1, 1), bias=False)\n",
       "        (6): BatchNorm2d(58, eps=1e-05, momentum=0.1, affine=True, track_running_stats=True)\n",
       "        (7): ReLU(inplace=True)\n",
       "      )\n",
       "    )\n",
       "    (2): ShuffleBlock(\n",
       "      (branch2): Sequential(\n",
       "        (0): Conv2d(58, 58, kernel_size=(1, 1), stride=(1, 1), bias=False)\n",
       "        (1): BatchNorm2d(58, eps=1e-05, momentum=0.1, affine=True, track_running_stats=True)\n",
       "        (2): ReLU(inplace=True)\n",
       "        (3): Conv2d(58, 58, kernel_size=(3, 3), stride=(1, 1), padding=(1, 1), groups=58, bias=False)\n",
       "        (4): BatchNorm2d(58, eps=1e-05, momentum=0.1, affine=True, track_running_stats=True)\n",
       "        (5): Conv2d(58, 58, kernel_size=(1, 1), stride=(1, 1), bias=False)\n",
       "        (6): BatchNorm2d(58, eps=1e-05, momentum=0.1, affine=True, track_running_stats=True)\n",
       "        (7): ReLU(inplace=True)\n",
       "      )\n",
       "    )\n",
       "    (3): ShuffleBlock(\n",
       "      (branch2): Sequential(\n",
       "        (0): Conv2d(58, 58, kernel_size=(1, 1), stride=(1, 1), bias=False)\n",
       "        (1): BatchNorm2d(58, eps=1e-05, momentum=0.1, affine=True, track_running_stats=True)\n",
       "        (2): ReLU(inplace=True)\n",
       "        (3): Conv2d(58, 58, kernel_size=(3, 3), stride=(1, 1), padding=(1, 1), groups=58, bias=False)\n",
       "        (4): BatchNorm2d(58, eps=1e-05, momentum=0.1, affine=True, track_running_stats=True)\n",
       "        (5): Conv2d(58, 58, kernel_size=(1, 1), stride=(1, 1), bias=False)\n",
       "        (6): BatchNorm2d(58, eps=1e-05, momentum=0.1, affine=True, track_running_stats=True)\n",
       "        (7): ReLU(inplace=True)\n",
       "      )\n",
       "    )\n",
       "    (4): ShuffleBlock(\n",
       "      (branch1): Sequential(\n",
       "        (0): Conv2d(116, 116, kernel_size=(3, 3), stride=(2, 2), padding=(1, 1), groups=116, bias=False)\n",
       "        (1): BatchNorm2d(116, eps=1e-05, momentum=0.1, affine=True, track_running_stats=True)\n",
       "        (2): Conv2d(116, 116, kernel_size=(1, 1), stride=(1, 1), bias=False)\n",
       "        (3): BatchNorm2d(116, eps=1e-05, momentum=0.1, affine=True, track_running_stats=True)\n",
       "        (4): ReLU(inplace=True)\n",
       "      )\n",
       "      (branch2): Sequential(\n",
       "        (0): Conv2d(116, 116, kernel_size=(1, 1), stride=(1, 1), bias=False)\n",
       "        (1): BatchNorm2d(116, eps=1e-05, momentum=0.1, affine=True, track_running_stats=True)\n",
       "        (2): ReLU(inplace=True)\n",
       "        (3): Conv2d(116, 116, kernel_size=(3, 3), stride=(2, 2), padding=(1, 1), groups=116, bias=False)\n",
       "        (4): BatchNorm2d(116, eps=1e-05, momentum=0.1, affine=True, track_running_stats=True)\n",
       "        (5): Conv2d(116, 116, kernel_size=(1, 1), stride=(1, 1), bias=False)\n",
       "        (6): BatchNorm2d(116, eps=1e-05, momentum=0.1, affine=True, track_running_stats=True)\n",
       "        (7): ReLU(inplace=True)\n",
       "      )\n",
       "    )\n",
       "    (5): ShuffleBlock(\n",
       "      (branch2): Sequential(\n",
       "        (0): Conv2d(116, 116, kernel_size=(1, 1), stride=(1, 1), bias=False)\n",
       "        (1): BatchNorm2d(116, eps=1e-05, momentum=0.1, affine=True, track_running_stats=True)\n",
       "        (2): ReLU(inplace=True)\n",
       "        (3): Conv2d(116, 116, kernel_size=(3, 3), stride=(1, 1), padding=(1, 1), groups=116, bias=False)\n",
       "        (4): BatchNorm2d(116, eps=1e-05, momentum=0.1, affine=True, track_running_stats=True)\n",
       "        (5): Conv2d(116, 116, kernel_size=(1, 1), stride=(1, 1), bias=False)\n",
       "        (6): BatchNorm2d(116, eps=1e-05, momentum=0.1, affine=True, track_running_stats=True)\n",
       "        (7): ReLU(inplace=True)\n",
       "      )\n",
       "    )\n",
       "    (6): ShuffleBlock(\n",
       "      (branch2): Sequential(\n",
       "        (0): Conv2d(116, 116, kernel_size=(1, 1), stride=(1, 1), bias=False)\n",
       "        (1): BatchNorm2d(116, eps=1e-05, momentum=0.1, affine=True, track_running_stats=True)\n",
       "        (2): ReLU(inplace=True)\n",
       "        (3): Conv2d(116, 116, kernel_size=(3, 3), stride=(1, 1), padding=(1, 1), groups=116, bias=False)\n",
       "        (4): BatchNorm2d(116, eps=1e-05, momentum=0.1, affine=True, track_running_stats=True)\n",
       "        (5): Conv2d(116, 116, kernel_size=(1, 1), stride=(1, 1), bias=False)\n",
       "        (6): BatchNorm2d(116, eps=1e-05, momentum=0.1, affine=True, track_running_stats=True)\n",
       "        (7): ReLU(inplace=True)\n",
       "      )\n",
       "    )\n",
       "    (7): ShuffleBlock(\n",
       "      (branch2): Sequential(\n",
       "        (0): Conv2d(116, 116, kernel_size=(1, 1), stride=(1, 1), bias=False)\n",
       "        (1): BatchNorm2d(116, eps=1e-05, momentum=0.1, affine=True, track_running_stats=True)\n",
       "        (2): ReLU(inplace=True)\n",
       "        (3): Conv2d(116, 116, kernel_size=(3, 3), stride=(1, 1), padding=(1, 1), groups=116, bias=False)\n",
       "        (4): BatchNorm2d(116, eps=1e-05, momentum=0.1, affine=True, track_running_stats=True)\n",
       "        (5): Conv2d(116, 116, kernel_size=(1, 1), stride=(1, 1), bias=False)\n",
       "        (6): BatchNorm2d(116, eps=1e-05, momentum=0.1, affine=True, track_running_stats=True)\n",
       "        (7): ReLU(inplace=True)\n",
       "      )\n",
       "    )\n",
       "    (8): ShuffleBlock(\n",
       "      (branch2): Sequential(\n",
       "        (0): Conv2d(116, 116, kernel_size=(1, 1), stride=(1, 1), bias=False)\n",
       "        (1): BatchNorm2d(116, eps=1e-05, momentum=0.1, affine=True, track_running_stats=True)\n",
       "        (2): ReLU(inplace=True)\n",
       "        (3): Conv2d(116, 116, kernel_size=(3, 3), stride=(1, 1), padding=(1, 1), groups=116, bias=False)\n",
       "        (4): BatchNorm2d(116, eps=1e-05, momentum=0.1, affine=True, track_running_stats=True)\n",
       "        (5): Conv2d(116, 116, kernel_size=(1, 1), stride=(1, 1), bias=False)\n",
       "        (6): BatchNorm2d(116, eps=1e-05, momentum=0.1, affine=True, track_running_stats=True)\n",
       "        (7): ReLU(inplace=True)\n",
       "      )\n",
       "    )\n",
       "    (9): ShuffleBlock(\n",
       "      (branch2): Sequential(\n",
       "        (0): Conv2d(116, 116, kernel_size=(1, 1), stride=(1, 1), bias=False)\n",
       "        (1): BatchNorm2d(116, eps=1e-05, momentum=0.1, affine=True, track_running_stats=True)\n",
       "        (2): ReLU(inplace=True)\n",
       "        (3): Conv2d(116, 116, kernel_size=(3, 3), stride=(1, 1), padding=(1, 1), groups=116, bias=False)\n",
       "        (4): BatchNorm2d(116, eps=1e-05, momentum=0.1, affine=True, track_running_stats=True)\n",
       "        (5): Conv2d(116, 116, kernel_size=(1, 1), stride=(1, 1), bias=False)\n",
       "        (6): BatchNorm2d(116, eps=1e-05, momentum=0.1, affine=True, track_running_stats=True)\n",
       "        (7): ReLU(inplace=True)\n",
       "      )\n",
       "    )\n",
       "    (10): ShuffleBlock(\n",
       "      (branch2): Sequential(\n",
       "        (0): Conv2d(116, 116, kernel_size=(1, 1), stride=(1, 1), bias=False)\n",
       "        (1): BatchNorm2d(116, eps=1e-05, momentum=0.1, affine=True, track_running_stats=True)\n",
       "        (2): ReLU(inplace=True)\n",
       "        (3): Conv2d(116, 116, kernel_size=(3, 3), stride=(1, 1), padding=(1, 1), groups=116, bias=False)\n",
       "        (4): BatchNorm2d(116, eps=1e-05, momentum=0.1, affine=True, track_running_stats=True)\n",
       "        (5): Conv2d(116, 116, kernel_size=(1, 1), stride=(1, 1), bias=False)\n",
       "        (6): BatchNorm2d(116, eps=1e-05, momentum=0.1, affine=True, track_running_stats=True)\n",
       "        (7): ReLU(inplace=True)\n",
       "      )\n",
       "    )\n",
       "    (11): ShuffleBlock(\n",
       "      (branch2): Sequential(\n",
       "        (0): Conv2d(116, 116, kernel_size=(1, 1), stride=(1, 1), bias=False)\n",
       "        (1): BatchNorm2d(116, eps=1e-05, momentum=0.1, affine=True, track_running_stats=True)\n",
       "        (2): ReLU(inplace=True)\n",
       "        (3): Conv2d(116, 116, kernel_size=(3, 3), stride=(1, 1), padding=(1, 1), groups=116, bias=False)\n",
       "        (4): BatchNorm2d(116, eps=1e-05, momentum=0.1, affine=True, track_running_stats=True)\n",
       "        (5): Conv2d(116, 116, kernel_size=(1, 1), stride=(1, 1), bias=False)\n",
       "        (6): BatchNorm2d(116, eps=1e-05, momentum=0.1, affine=True, track_running_stats=True)\n",
       "        (7): ReLU(inplace=True)\n",
       "      )\n",
       "    )\n",
       "    (12): ShuffleBlock(\n",
       "      (branch1): Sequential(\n",
       "        (0): Conv2d(232, 232, kernel_size=(3, 3), stride=(2, 2), padding=(1, 1), groups=232, bias=False)\n",
       "        (1): BatchNorm2d(232, eps=1e-05, momentum=0.1, affine=True, track_running_stats=True)\n",
       "        (2): Conv2d(232, 232, kernel_size=(1, 1), stride=(1, 1), bias=False)\n",
       "        (3): BatchNorm2d(232, eps=1e-05, momentum=0.1, affine=True, track_running_stats=True)\n",
       "        (4): ReLU(inplace=True)\n",
       "      )\n",
       "      (branch2): Sequential(\n",
       "        (0): Conv2d(232, 232, kernel_size=(1, 1), stride=(1, 1), bias=False)\n",
       "        (1): BatchNorm2d(232, eps=1e-05, momentum=0.1, affine=True, track_running_stats=True)\n",
       "        (2): ReLU(inplace=True)\n",
       "        (3): Conv2d(232, 232, kernel_size=(3, 3), stride=(2, 2), padding=(1, 1), groups=232, bias=False)\n",
       "        (4): BatchNorm2d(232, eps=1e-05, momentum=0.1, affine=True, track_running_stats=True)\n",
       "        (5): Conv2d(232, 232, kernel_size=(1, 1), stride=(1, 1), bias=False)\n",
       "        (6): BatchNorm2d(232, eps=1e-05, momentum=0.1, affine=True, track_running_stats=True)\n",
       "        (7): ReLU(inplace=True)\n",
       "      )\n",
       "    )\n",
       "    (13): ShuffleBlock(\n",
       "      (branch2): Sequential(\n",
       "        (0): Conv2d(232, 232, kernel_size=(1, 1), stride=(1, 1), bias=False)\n",
       "        (1): BatchNorm2d(232, eps=1e-05, momentum=0.1, affine=True, track_running_stats=True)\n",
       "        (2): ReLU(inplace=True)\n",
       "        (3): Conv2d(232, 232, kernel_size=(3, 3), stride=(1, 1), padding=(1, 1), groups=232, bias=False)\n",
       "        (4): BatchNorm2d(232, eps=1e-05, momentum=0.1, affine=True, track_running_stats=True)\n",
       "        (5): Conv2d(232, 232, kernel_size=(1, 1), stride=(1, 1), bias=False)\n",
       "        (6): BatchNorm2d(232, eps=1e-05, momentum=0.1, affine=True, track_running_stats=True)\n",
       "        (7): ReLU(inplace=True)\n",
       "      )\n",
       "    )\n",
       "    (14): ShuffleBlock(\n",
       "      (branch2): Sequential(\n",
       "        (0): Conv2d(232, 232, kernel_size=(1, 1), stride=(1, 1), bias=False)\n",
       "        (1): BatchNorm2d(232, eps=1e-05, momentum=0.1, affine=True, track_running_stats=True)\n",
       "        (2): ReLU(inplace=True)\n",
       "        (3): Conv2d(232, 232, kernel_size=(3, 3), stride=(1, 1), padding=(1, 1), groups=232, bias=False)\n",
       "        (4): BatchNorm2d(232, eps=1e-05, momentum=0.1, affine=True, track_running_stats=True)\n",
       "        (5): Conv2d(232, 232, kernel_size=(1, 1), stride=(1, 1), bias=False)\n",
       "        (6): BatchNorm2d(232, eps=1e-05, momentum=0.1, affine=True, track_running_stats=True)\n",
       "        (7): ReLU(inplace=True)\n",
       "      )\n",
       "    )\n",
       "    (15): ShuffleBlock(\n",
       "      (branch2): Sequential(\n",
       "        (0): Conv2d(232, 232, kernel_size=(1, 1), stride=(1, 1), bias=False)\n",
       "        (1): BatchNorm2d(232, eps=1e-05, momentum=0.1, affine=True, track_running_stats=True)\n",
       "        (2): ReLU(inplace=True)\n",
       "        (3): Conv2d(232, 232, kernel_size=(3, 3), stride=(1, 1), padding=(1, 1), groups=232, bias=False)\n",
       "        (4): BatchNorm2d(232, eps=1e-05, momentum=0.1, affine=True, track_running_stats=True)\n",
       "        (5): Conv2d(232, 232, kernel_size=(1, 1), stride=(1, 1), bias=False)\n",
       "        (6): BatchNorm2d(232, eps=1e-05, momentum=0.1, affine=True, track_running_stats=True)\n",
       "        (7): ReLU(inplace=True)\n",
       "      )\n",
       "    )\n",
       "  )\n",
       "  (conv5): Sequential(\n",
       "    (0): Conv2d(464, 1024, kernel_size=(1, 1), stride=(1, 1), bias=False)\n",
       "    (1): BatchNorm2d(1024, eps=1e-05, momentum=0.1, affine=True, track_running_stats=True)\n",
       "    (2): ReLU(inplace=True)\n",
       "  )\n",
       "  (g_avg_pool): AvgPool2d(kernel_size=7, stride=7, padding=0)\n",
       "  (fc): Linear(in_features=1024, out_features=4, bias=True)\n",
       ")"
      ]
     },
     "execution_count": 24,
     "metadata": {},
     "output_type": "execute_result"
    }
   ],
   "source": [
    "ckpt = torch.load(directory+'/mymodel_'+str(best_epoch)+'.pth')\n",
    "model.load_state_dict(ckpt)\n",
    "model.eval()\n"
   ]
  },
  {
   "cell_type": "code",
   "execution_count": 25,
   "id": "7e7811ea",
   "metadata": {},
   "outputs": [
    {
     "name": "stdout",
     "output_type": "stream",
     "text": [
      "10831\n"
     ]
    },
    {
     "name": "stderr",
     "output_type": "stream",
     "text": [
      "testing: 100%|██████████| 10831/10831 [05:21<00:00, 33.66it/s]"
     ]
    },
    {
     "name": "stdout",
     "output_type": "stream",
     "text": [
      "-------------------------------------------------\n",
      "TEST Accuracy (%):  90.1417228326101 == 78106 / 86648\n",
      "-------------------------------------------------\n"
     ]
    },
    {
     "name": "stderr",
     "output_type": "stream",
     "text": [
      "\n"
     ]
    }
   ],
   "source": [
    "from tqdm import tqdm\n",
    "\n",
    "test_dataset = CustomDataset('./csv_files/test_on_remaining_data.csv', transform=transform)\n",
    "test_dataloader = DataLoader(test_dataset, batch_size=8, shuffle=False)\n",
    "\n",
    "print(len(test_dataloader))\n",
    "\n",
    "progress_bar = tqdm(enumerate(test_dataloader), total=len(test_dataloader), desc=f'testing')\n",
    "\n",
    "y_true_val = []\n",
    "y_pred_val = []\n",
    "\n",
    "\n",
    "model.eval()\n",
    "for batch_idx, (images, labels) in progress_bar:\n",
    "    images = images.to(device)\n",
    "    labels = labels.to(device)\n",
    "    #images=images/255\n",
    "    optimizer.zero_grad()\n",
    "\n",
    "    outputs = model(images)\n",
    "\n",
    "    y_pred_val.extend(outputs.detach().argmax(dim=-1).tolist())\n",
    "    y_true_val.extend(labels.detach().tolist())\n",
    "\n",
    "\n",
    "\n",
    "    # Update progress bar description with current loss\n",
    "\n",
    "\n",
    "\n",
    "total_correct = len([True for x, y in zip(y_pred_val, y_true_val) if x==y])\n",
    "total = len(y_true_val)\n",
    "test_accuracy = total_correct * 100 / total\n",
    "\n",
    "print(\"-------------------------------------------------\")\n",
    "print(\"TEST Accuracy (%): \", test_accuracy, \"==\", total_correct, \"/\", total)\n",
    "print(\"-------------------------------------------------\")\n"
   ]
  },
  {
   "cell_type": "code",
   "execution_count": null,
   "id": "885ff849",
   "metadata": {},
   "outputs": [],
   "source": [
    "test_accuracy_dic={\"best epoch\":[best_epoch],\n",
    "          \"test_accuracy\":[test_accuracy]}\n",
    "\n",
    "df = pd.DataFrame.from_dict(test_accuracy_dic) \n",
    "path=directory+'/test_accuracy.csv'\n",
    "df.to_csv (path, index = False, header=True)"
   ]
  },
  {
   "cell_type": "markdown",
   "id": "2b6d3a3d",
   "metadata": {},
   "source": [
    "# Demo on Test data"
   ]
  },
  {
   "cell_type": "code",
   "execution_count": null,
   "id": "a11433fc",
   "metadata": {},
   "outputs": [],
   "source": [
    "import matplotlib.pyplot as plt\n",
    "\n",
    "test_dataset = CustomDataset('./csv_files/test_on_remaining_data.csv', transform=transform)\n",
    "test_dataloader = DataLoader(test_dataset, batch_size=8, shuffle=True)\n",
    "\n",
    "int_to_class = {0:\"NORMAL\" , 1:\"DRUSEN\", 2:\"DME\" ,3:\"CNV\"}  \n",
    "# Function to show images\n",
    "def show_images(images, labels,predictions):\n",
    "    plt.figure(figsize=(30, 30))\n",
    "    for i in range(len(images)):\n",
    "        plt.subplot(len(images),1 , i + 1)\n",
    "        plt.title(f\"GT: {int_to_class[labels[i].item()]} \\n prediction: {int_to_class[predictions[i]]}\")\n",
    "        plt.imshow(images[i][0], cmap=\"gray\")\n",
    "        plt.axis('off')\n",
    "    plt.show()\n",
    "\n",
    "# Display a batch of images\n",
    "for images, labels in test_dataloader:\n",
    "    images = images.to(device)\n",
    "    outputs = model(images)\n",
    "    outputs_cpu=outputs.detach().argmax(dim=-1).tolist()\n",
    "    print(outputs_cpu)\n",
    "    print(labels)\n",
    "    \n",
    "    break  # Show only the first batch\n",
    "    \n",
    "    \n",
    "images=images.to('cpu')\n",
    "    \n",
    "show_images(images,labels,outputs_cpu)"
   ]
  }
 ],
 "metadata": {
  "kernelspec": {
   "display_name": "Python 3 (ipykernel)",
   "language": "python",
   "name": "python3"
  },
  "language_info": {
   "codemirror_mode": {
    "name": "ipython",
    "version": 3
   },
   "file_extension": ".py",
   "mimetype": "text/x-python",
   "name": "python",
   "nbconvert_exporter": "python",
   "pygments_lexer": "ipython3",
   "version": "3.9.12"
  }
 },
 "nbformat": 4,
 "nbformat_minor": 5
}
