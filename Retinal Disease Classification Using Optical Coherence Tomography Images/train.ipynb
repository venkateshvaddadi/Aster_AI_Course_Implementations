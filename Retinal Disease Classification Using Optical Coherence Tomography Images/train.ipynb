{
 "cells": [
  {
   "cell_type": "code",
   "execution_count": 1,
   "id": "f56b3631",
   "metadata": {},
   "outputs": [
    {
     "name": "stderr",
     "output_type": "stream",
     "text": [
      "/home/venkatesh/anaconda3/envs/venkatesh_pytorch_updated_110/lib/python3.9/site-packages/tqdm/auto.py:22: TqdmWarning: IProgress not found. Please update jupyter and ipywidgets. See https://ipywidgets.readthedocs.io/en/stable/user_install.html\n",
      "  from .autonotebook import tqdm as notebook_tqdm\n"
     ]
    }
   ],
   "source": [
    "#!/usr/bin/env python3\n",
    "# -*- coding: utf-8 -*-\n",
    "\"\"\"\n",
    "Created on Wed Jul 31 11:42:46 2024\n",
    "\n",
    "@author: venkatesh\n",
    "\"\"\"\n",
    "\n",
    "import torch\n",
    "import torch\n",
    "import torch.nn as nn\n",
    "import torch.optim as optim\n",
    "import torchvision.transforms as transforms\n",
    "from torch.utils.data import Dataset, DataLoader\n",
    "import pandas as pd\n",
    "from PIL import Image\n",
    "import numpy as np"
   ]
  },
  {
   "cell_type": "code",
   "execution_count": 2,
   "id": "9df1251e",
   "metadata": {},
   "outputs": [
    {
     "name": "stdout",
     "output_type": "stream",
     "text": [
      "cuda\n"
     ]
    }
   ],
   "source": [
    "device = torch.device(\"cuda\" if torch.cuda.is_available() else \"cpu\")\n",
    "print(device)\n"
   ]
  },
  {
   "cell_type": "code",
   "execution_count": 3,
   "id": "45cb7d31",
   "metadata": {},
   "outputs": [
    {
     "name": "stdout",
     "output_type": "stream",
     "text": [
      "torch.Size([1, 4])\n"
     ]
    }
   ],
   "source": [
    "model_name='mobilenetv2'\n",
    "\n",
    "num_classes = 4\n",
    "# Assuming 3 classes: \"NORMAL\", \"DRUSEN\", \"DME\",\"CNV\"\n",
    "\n",
    "if(model_name=='mobilenetv2'):\n",
    "    from models.mobilenet import MobileNet2\n",
    "    model=MobileNet2(in_channels=1, num_classes=4)\n",
    "if(model_name=='ResNet50'):\n",
    "    from models.resnet import ResNet50\n",
    "    model=ResNet50(num_classes=num_classes, channels=3)    \n",
    "if(model_name=='ShuffleNet2'):\n",
    "    from models.ShuffleNet2 import ShuffleNet2\n",
    "    model=ShuffleNet2(num_classes=num_classes)    \n",
    "if(model_name=='SqueezeNet'):\n",
    "    from models.SqueezeNet import SqueezeNet\n",
    "    model=SqueezeNet(num_classes=num_classes)"
   ]
  },
  {
   "cell_type": "code",
   "execution_count": 4,
   "id": "5ed0b6d0",
   "metadata": {},
   "outputs": [],
   "source": [
    "model=model.to(device)\n"
   ]
  },
  {
   "cell_type": "code",
   "execution_count": 5,
   "id": "7662ca0b",
   "metadata": {},
   "outputs": [
    {
     "name": "stdout",
     "output_type": "stream",
     "text": [
      "*******************************************************\n",
      "saved_models//Jul_31_12_46_pm__model_mobilenetv2/\n",
      "Model will be saved to  : saved_models//Jul_31_12_46_pm__model_mobilenetv2/\n"
     ]
    }
   ],
   "source": [
    "from datetime import datetime\n",
    "import time\n",
    "\n",
    "import os\n",
    "print ('*******************************************************')\n",
    "start_time=time.time()\n",
    "experiments_folder=\"saved_models/\"\n",
    "experiment_name=datetime.now().strftime(\"%b_%d_%I_%M_%P_\")+\"_model_\"+model_name\n",
    "\n",
    "directory=experiments_folder+\"/\"+experiment_name+\"/\"\n",
    "print(directory)\n",
    "print('Model will be saved to  :', directory)\n",
    "\n",
    "try:\n",
    "    os.makedirs(directory)\n",
    "except:\n",
    "    print('model already existed..........')"
   ]
  },
  {
   "cell_type": "code",
   "execution_count": 6,
   "id": "b2d3e1f1",
   "metadata": {},
   "outputs": [],
   "source": [
    "import torchvision.transforms as transforms\n",
    "\n",
    "# Define transformations for data augmentation or normalization\n",
    "transform = transforms.Compose([\n",
    "    transforms.Resize((224, 224)),  # Resize image to required size\n",
    "    transforms.ToTensor()\n",
    "])"
   ]
  },
  {
   "cell_type": "code",
   "execution_count": 7,
   "id": "0e15e88f",
   "metadata": {},
   "outputs": [
    {
     "name": "stdout",
     "output_type": "stream",
     "text": [
      "271\n",
      "2166\n",
      "271\n"
     ]
    }
   ],
   "source": [
    "from dataset import CustomDataset\n",
    "from torch.utils.data import Dataset, DataLoader\n",
    "\n",
    "# Create CustomDataset instance\n",
    "dataset = CustomDataset('./csv_files/data_train.csv', transform=transform)\n",
    "train_loader = DataLoader(dataset, batch_size=8, shuffle=False)\n",
    "\n",
    "val_dataset = CustomDataset('./csv_files/data_valid.csv', transform=transform)\n",
    "val_dataloader = DataLoader(val_dataset, batch_size=8, shuffle=False)\n",
    "\n",
    "test_dataset = CustomDataset('./csv_files/data_test.csv', transform=transform)\n",
    "test_dataloader = DataLoader(val_dataset, batch_size=8, shuffle=False)\n",
    "\n",
    "print(len(test_dataloader))\n",
    "print(len(train_loader))\n",
    "print(len(val_dataloader))\n",
    "\n"
   ]
  },
  {
   "cell_type": "code",
   "execution_count": 8,
   "id": "9d50e705",
   "metadata": {},
   "outputs": [],
   "source": [
    "\n",
    "\n",
    "learning_rate=0.0001\n",
    "# Define loss function and optimizer\n",
    "criterion = nn.CrossEntropyLoss()\n",
    "optimizer = optim.Adam(model.parameters(), lr=learning_rate)"
   ]
  },
  {
   "cell_type": "code",
   "execution_count": null,
   "id": "67c8e813",
   "metadata": {},
   "outputs": [
    {
     "name": "stderr",
     "output_type": "stream",
     "text": [
      "Epoch 1/25: 100%|██████████| 2166/2166 [01:40<00:00, 21.62it/s, Loss=0.762]\n"
     ]
    },
    {
     "name": "stdout",
     "output_type": "stream",
     "text": [
      "-------------------------------------------------\n",
      "Epoch: 0 Train mean loss: 1650.60255197\n",
      "Train Accuracy%:  74.01892890120037 == 12826 / 17328\n",
      "-------------------------------------------------\n",
      "Model saved at: saved_models//Jul_31_12_46_pm__model_mobilenetv2//mymodel_0.pth\n",
      "Epoch [1/25], Loss: 0.7621\n"
     ]
    },
    {
     "name": "stderr",
     "output_type": "stream",
     "text": [
      "Epoch 1/25: 100%|██████████| 271/271 [00:08<00:00, 32.36it/s, Validation Loss=0.588]\n"
     ]
    },
    {
     "name": "stdout",
     "output_type": "stream",
     "text": [
      "Epoch [1/25], Loss: 0.5877\n",
      "-------------------------------------------------\n",
      "Epoch: 0 Val mean loss: 159.27813441\n",
      "valiation Accuracy%:  78.58790955237656 == 1703 / 2167\n",
      "-------------------------------------------------\n"
     ]
    },
    {
     "name": "stderr",
     "output_type": "stream",
     "text": [
      "Epoch 2/25: 100%|██████████| 2166/2166 [01:37<00:00, 22.24it/s, Loss=0.592]\n"
     ]
    },
    {
     "name": "stdout",
     "output_type": "stream",
     "text": [
      "-------------------------------------------------\n",
      "Epoch: 1 Train mean loss: 1282.48682651\n",
      "Train Accuracy%:  79.84764542936288 == 13836 / 17328\n",
      "-------------------------------------------------\n",
      "Model saved at: saved_models//Jul_31_12_46_pm__model_mobilenetv2//mymodel_1.pth\n",
      "Epoch [2/25], Loss: 0.5921\n"
     ]
    },
    {
     "name": "stderr",
     "output_type": "stream",
     "text": [
      "Epoch 2/25: 100%|██████████| 271/271 [00:08<00:00, 32.62it/s, Validation Loss=0.542]\n"
     ]
    },
    {
     "name": "stdout",
     "output_type": "stream",
     "text": [
      "Epoch [2/25], Loss: 0.5420\n",
      "-------------------------------------------------\n",
      "Epoch: 1 Val mean loss: 146.88582198\n",
      "valiation Accuracy%:  80.75680664513152 == 1750 / 2167\n",
      "-------------------------------------------------\n"
     ]
    },
    {
     "name": "stderr",
     "output_type": "stream",
     "text": [
      "Epoch 3/25: 100%|██████████| 2166/2166 [01:38<00:00, 21.89it/s, Loss=0.475]\n"
     ]
    },
    {
     "name": "stdout",
     "output_type": "stream",
     "text": [
      "-------------------------------------------------\n",
      "Epoch: 2 Train mean loss: 1028.14525584\n",
      "Train Accuracy%:  84.29709141274238 == 14607 / 17328\n",
      "-------------------------------------------------\n",
      "Model saved at: saved_models//Jul_31_12_46_pm__model_mobilenetv2//mymodel_2.pth\n",
      "Epoch [3/25], Loss: 0.4747\n"
     ]
    },
    {
     "name": "stderr",
     "output_type": "stream",
     "text": [
      "Epoch 3/25: 100%|██████████| 271/271 [00:08<00:00, 32.34it/s, Validation Loss=0.411]\n"
     ]
    },
    {
     "name": "stdout",
     "output_type": "stream",
     "text": [
      "Epoch [3/25], Loss: 0.4115\n",
      "-------------------------------------------------\n",
      "Epoch: 2 Val mean loss: 111.50625286\n",
      "valiation Accuracy%:  86.06368251038302 == 1865 / 2167\n",
      "-------------------------------------------------\n"
     ]
    },
    {
     "name": "stderr",
     "output_type": "stream",
     "text": [
      "Epoch 4/25: 100%|██████████| 2166/2166 [01:38<00:00, 21.93it/s, Loss=0.389]\n"
     ]
    },
    {
     "name": "stdout",
     "output_type": "stream",
     "text": [
      "-------------------------------------------------\n",
      "Epoch: 3 Train mean loss: 842.46976257\n",
      "Train Accuracy%:  87.06140350877193 == 15086 / 17328\n",
      "-------------------------------------------------\n",
      "Model saved at: saved_models//Jul_31_12_46_pm__model_mobilenetv2//mymodel_3.pth\n",
      "Epoch [4/25], Loss: 0.3890\n"
     ]
    },
    {
     "name": "stderr",
     "output_type": "stream",
     "text": [
      "Epoch 4/25: 100%|██████████| 271/271 [00:08<00:00, 33.07it/s, Validation Loss=0.359]\n"
     ]
    },
    {
     "name": "stdout",
     "output_type": "stream",
     "text": [
      "Epoch [4/25], Loss: 0.3594\n",
      "-------------------------------------------------\n",
      "Epoch: 3 Val mean loss: 97.39139538\n",
      "valiation Accuracy%:  88.41716658975542 == 1916 / 2167\n",
      "-------------------------------------------------\n"
     ]
    },
    {
     "name": "stderr",
     "output_type": "stream",
     "text": [
      "Epoch 5/25: 100%|██████████| 2166/2166 [01:38<00:00, 22.00it/s, Loss=0.334]\n"
     ]
    },
    {
     "name": "stdout",
     "output_type": "stream",
     "text": [
      "-------------------------------------------------\n",
      "Epoch: 4 Train mean loss: 722.69690692\n",
      "Train Accuracy%:  88.97737765466297 == 15418 / 17328\n",
      "-------------------------------------------------\n",
      "Model saved at: saved_models//Jul_31_12_46_pm__model_mobilenetv2//mymodel_4.pth\n",
      "Epoch [5/25], Loss: 0.3337\n"
     ]
    },
    {
     "name": "stderr",
     "output_type": "stream",
     "text": [
      "Epoch 5/25: 100%|██████████| 271/271 [00:08<00:00, 33.42it/s, Validation Loss=0.324]\n"
     ]
    },
    {
     "name": "stdout",
     "output_type": "stream",
     "text": [
      "Epoch [5/25], Loss: 0.3244\n",
      "-------------------------------------------------\n",
      "Epoch: 4 Val mean loss: 87.91480493\n",
      "valiation Accuracy%:  89.20166128287956 == 1933 / 2167\n",
      "-------------------------------------------------\n"
     ]
    },
    {
     "name": "stderr",
     "output_type": "stream",
     "text": [
      "Epoch 6/25: 100%|██████████| 2166/2166 [01:37<00:00, 22.31it/s, Loss=0.287]\n"
     ]
    },
    {
     "name": "stdout",
     "output_type": "stream",
     "text": [
      "-------------------------------------------------\n",
      "Epoch: 5 Train mean loss: 621.05210594\n",
      "Train Accuracy%:  90.4028162511542 == 15665 / 17328\n",
      "-------------------------------------------------\n",
      "Model saved at: saved_models//Jul_31_12_46_pm__model_mobilenetv2//mymodel_5.pth\n",
      "Epoch [6/25], Loss: 0.2867\n"
     ]
    },
    {
     "name": "stderr",
     "output_type": "stream",
     "text": [
      "Epoch 6/25: 100%|██████████| 271/271 [00:08<00:00, 33.82it/s, Validation Loss=0.277]\n"
     ]
    },
    {
     "name": "stdout",
     "output_type": "stream",
     "text": [
      "Epoch [6/25], Loss: 0.2769\n",
      "-------------------------------------------------\n",
      "Epoch: 5 Val mean loss: 75.03664769\n",
      "valiation Accuracy%:  90.63221042916474 == 1964 / 2167\n",
      "-------------------------------------------------\n"
     ]
    },
    {
     "name": "stderr",
     "output_type": "stream",
     "text": [
      "Epoch 7/25: 100%|██████████| 2166/2166 [01:37<00:00, 22.30it/s, Loss=0.253]\n"
     ]
    },
    {
     "name": "stdout",
     "output_type": "stream",
     "text": [
      "-------------------------------------------------\n",
      "Epoch: 6 Train mean loss: 548.95901766\n",
      "Train Accuracy%:  91.58587257617728 == 15870 / 17328\n",
      "-------------------------------------------------\n",
      "Model saved at: saved_models//Jul_31_12_46_pm__model_mobilenetv2//mymodel_6.pth\n",
      "Epoch [7/25], Loss: 0.2534\n"
     ]
    },
    {
     "name": "stderr",
     "output_type": "stream",
     "text": [
      "Epoch 7/25: 100%|██████████| 271/271 [00:08<00:00, 33.39it/s, Validation Loss=0.293]\n"
     ]
    },
    {
     "name": "stdout",
     "output_type": "stream",
     "text": [
      "Epoch [7/25], Loss: 0.2926\n",
      "-------------------------------------------------\n",
      "Epoch: 6 Val mean loss: 79.29695109\n",
      "valiation Accuracy%:  90.72450392247346 == 1966 / 2167\n",
      "-------------------------------------------------\n"
     ]
    },
    {
     "name": "stderr",
     "output_type": "stream",
     "text": [
      "Epoch 8/25: 100%|██████████| 2166/2166 [01:40<00:00, 21.64it/s, Loss=0.227]\n"
     ]
    },
    {
     "name": "stdout",
     "output_type": "stream",
     "text": [
      "-------------------------------------------------\n",
      "Epoch: 7 Train mean loss: 492.44264503\n",
      "Train Accuracy%:  92.53231763619576 == 16034 / 17328\n",
      "-------------------------------------------------\n",
      "Model saved at: saved_models//Jul_31_12_46_pm__model_mobilenetv2//mymodel_7.pth\n",
      "Epoch [8/25], Loss: 0.2274\n"
     ]
    },
    {
     "name": "stderr",
     "output_type": "stream",
     "text": [
      "Epoch 8/25: 100%|██████████| 271/271 [00:08<00:00, 32.49it/s, Validation Loss=0.263]\n"
     ]
    },
    {
     "name": "stdout",
     "output_type": "stream",
     "text": [
      "Epoch [8/25], Loss: 0.2633\n",
      "-------------------------------------------------\n",
      "Epoch: 7 Val mean loss: 71.34705022\n",
      "valiation Accuracy%:  91.18597138901707 == 1976 / 2167\n",
      "-------------------------------------------------\n"
     ]
    },
    {
     "name": "stderr",
     "output_type": "stream",
     "text": [
      "Epoch 9/25: 100%|██████████| 2166/2166 [01:37<00:00, 22.30it/s, Loss=0.203]\n"
     ]
    },
    {
     "name": "stdout",
     "output_type": "stream",
     "text": [
      "-------------------------------------------------\n",
      "Epoch: 8 Train mean loss: 439.46203306\n",
      "Train Accuracy%:  93.12673130193906 == 16137 / 17328\n",
      "-------------------------------------------------\n",
      "Model saved at: saved_models//Jul_31_12_46_pm__model_mobilenetv2//mymodel_8.pth\n",
      "Epoch [9/25], Loss: 0.2029\n"
     ]
    },
    {
     "name": "stderr",
     "output_type": "stream",
     "text": [
      "Epoch 9/25: 100%|██████████| 271/271 [00:08<00:00, 33.09it/s, Validation Loss=0.266]\n"
     ]
    },
    {
     "name": "stdout",
     "output_type": "stream",
     "text": [
      "Epoch [9/25], Loss: 0.2664\n",
      "-------------------------------------------------\n",
      "Epoch: 8 Val mean loss: 72.19042284\n",
      "valiation Accuracy%:  91.64743885556068 == 1986 / 2167\n",
      "-------------------------------------------------\n"
     ]
    },
    {
     "name": "stderr",
     "output_type": "stream",
     "text": [
      "Epoch 10/25: 100%|██████████| 2166/2166 [01:37<00:00, 22.16it/s, Loss=0.187]\n"
     ]
    },
    {
     "name": "stdout",
     "output_type": "stream",
     "text": [
      "-------------------------------------------------\n",
      "Epoch: 9 Train mean loss: 405.06345178\n",
      "Train Accuracy%:  93.88850415512465 == 16269 / 17328\n",
      "-------------------------------------------------\n",
      "Model saved at: saved_models//Jul_31_12_46_pm__model_mobilenetv2//mymodel_9.pth\n",
      "Epoch [10/25], Loss: 0.1870\n"
     ]
    },
    {
     "name": "stderr",
     "output_type": "stream",
     "text": [
      "Epoch 10/25: 100%|██████████| 271/271 [00:08<00:00, 32.79it/s, Validation Loss=0.265]\n"
     ]
    },
    {
     "name": "stdout",
     "output_type": "stream",
     "text": [
      "Epoch [10/25], Loss: 0.2651\n",
      "-------------------------------------------------\n",
      "Epoch: 9 Val mean loss: 71.85117493\n",
      "valiation Accuracy%:  91.87817258883248 == 1991 / 2167\n",
      "-------------------------------------------------\n"
     ]
    },
    {
     "name": "stderr",
     "output_type": "stream",
     "text": [
      "Epoch 11/25: 100%|██████████| 2166/2166 [01:37<00:00, 22.27it/s, Loss=0.174]\n"
     ]
    },
    {
     "name": "stdout",
     "output_type": "stream",
     "text": [
      "-------------------------------------------------\n",
      "Epoch: 10 Train mean loss: 376.04127830\n",
      "Train Accuracy%:  94.2578485687904 == 16333 / 17328\n",
      "-------------------------------------------------\n",
      "Model saved at: saved_models//Jul_31_12_46_pm__model_mobilenetv2//mymodel_10.pth\n",
      "Epoch [11/25], Loss: 0.1736\n"
     ]
    },
    {
     "name": "stderr",
     "output_type": "stream",
     "text": [
      "Epoch 11/25: 100%|██████████| 271/271 [00:08<00:00, 32.70it/s, Validation Loss=0.277]\n"
     ]
    },
    {
     "name": "stdout",
     "output_type": "stream",
     "text": [
      "Epoch [11/25], Loss: 0.2769\n",
      "-------------------------------------------------\n",
      "Epoch: 10 Val mean loss: 75.03990735\n",
      "valiation Accuracy%:  91.32441162898016 == 1979 / 2167\n",
      "-------------------------------------------------\n"
     ]
    },
    {
     "name": "stderr",
     "output_type": "stream",
     "text": [
      "Epoch 12/25: 100%|██████████| 2166/2166 [01:36<00:00, 22.39it/s, Loss=0.164]\n"
     ]
    },
    {
     "name": "stdout",
     "output_type": "stream",
     "text": [
      "-------------------------------------------------\n",
      "Epoch: 11 Train mean loss: 355.60179231\n",
      "Train Accuracy%:  94.62719298245614 == 16397 / 17328\n",
      "-------------------------------------------------\n",
      "Model saved at: saved_models//Jul_31_12_46_pm__model_mobilenetv2//mymodel_11.pth\n",
      "Epoch [12/25], Loss: 0.1642\n"
     ]
    },
    {
     "name": "stderr",
     "output_type": "stream",
     "text": [
      "Epoch 12/25: 100%|██████████| 271/271 [00:08<00:00, 33.59it/s, Validation Loss=0.242]\n"
     ]
    },
    {
     "name": "stdout",
     "output_type": "stream",
     "text": [
      "Epoch [12/25], Loss: 0.2420\n",
      "-------------------------------------------------\n",
      "Epoch: 11 Val mean loss: 65.58193743\n",
      "valiation Accuracy%:  92.52422704199354 == 2005 / 2167\n",
      "-------------------------------------------------\n"
     ]
    },
    {
     "name": "stderr",
     "output_type": "stream",
     "text": [
      "Epoch 13/25:  74%|███████▍  | 1601/2166 [01:13<00:25, 22.53it/s, Loss=0.152]"
     ]
    }
   ],
   "source": [
    "# Train your model\n",
    "# Train your model\n",
    "from tqdm import tqdm\n",
    "\n",
    "# Define your training function\n",
    "model.train()\n",
    "train_losses = []  # List to store training losses\n",
    "val_losses = []  # List to store validaion losses\n",
    "train_accuracy=[]\n",
    "validation_accuracy=[]\n",
    "\n",
    "num_epochs=25\n",
    "\n",
    "\n",
    "\n",
    "for epoch in range(num_epochs):\n",
    "    running_loss = 0.0\n",
    "    validation_loss=0.0\n",
    "    \n",
    "    y_true_train = []\n",
    "    y_pred_train = []\n",
    "\n",
    "\n",
    "    # Create tqdm progress bar\n",
    "    progress_bar = tqdm(enumerate(train_loader), total=len(train_loader), desc=f'Epoch {epoch + 1}/{num_epochs}')\n",
    "\n",
    "    for batch_idx, (images, labels) in progress_bar:\n",
    "        images = images.to(device)\n",
    "        labels = labels.to(device)\n",
    "        #images=images/255\n",
    "        #print(torch.unique(images))\n",
    "        optimizer.zero_grad()\n",
    "\n",
    "        outputs = model(images)\n",
    "        loss = criterion(outputs, labels)\n",
    "        loss.backward()\n",
    "        optimizer.step()\n",
    "\n",
    "        running_loss += loss.item()\n",
    "\n",
    "        y_pred_train.extend(outputs.detach().argmax(dim=-1).tolist())\n",
    "        y_true_train.extend(labels.detach().tolist())\n",
    "\n",
    "        \n",
    "        # Update progress bar description with current loss\n",
    "        progress_bar.set_postfix({'Loss': running_loss / (batch_idx + 1)})\n",
    "\n",
    "        \n",
    "    total_correct = len([True for x, y in zip(y_pred_train, y_true_train) if x==y])\n",
    "    total = len(y_pred_train)\n",
    "    accuracy = total_correct * 100 / total\n",
    "    train_accuracy.append(accuracy)\n",
    "\n",
    "    print(\"-------------------------------------------------\")\n",
    "    print(\"Epoch: {} Train mean loss: {:.8f}\".format(epoch, running_loss))\n",
    "    print(\"Train Accuracy%: \", accuracy, \"==\", total_correct, \"/\", total)\n",
    "    print(\"-------------------------------------------------\")\n",
    "        \n",
    "    save_path=directory+'/mymodel_'+str(epoch)+'.pth'\n",
    "    torch.save(model.state_dict(), save_path)\n",
    "    print(f'Model saved at: {save_path}')\n",
    "\n",
    "    # storing the train losses\n",
    "    epoch_loss = running_loss / len(train_loader)\n",
    "    train_losses.append(epoch_loss)\n",
    "\n",
    "    print(f'Epoch [{epoch + 1}/{num_epochs}], Loss: {epoch_loss:.4f}')\n",
    "\n",
    "    progress_bar = tqdm(enumerate(val_dataloader), total=len(val_dataloader), desc=f'Epoch {epoch + 1}/{num_epochs}')\n",
    "\n",
    "    y_true_val = []\n",
    "    y_pred_val = []\n",
    "\n",
    "    \n",
    "    model.eval()\n",
    "    for batch_idx, (images, labels) in progress_bar:\n",
    "        images = images.to(device)\n",
    "        labels = labels.to(device)\n",
    "        #images=images/255\n",
    "        optimizer.zero_grad()\n",
    "\n",
    "        outputs = model(images)\n",
    "        loss = criterion(outputs, labels)\n",
    "\n",
    "        validation_loss += loss.item()\n",
    "\n",
    "        y_pred_val.extend(outputs.detach().argmax(dim=-1).tolist())\n",
    "        y_true_val.extend(labels.detach().tolist())\n",
    "\n",
    "        \n",
    "        \n",
    "        # Update progress bar description with current loss\n",
    "        progress_bar.set_postfix({'Validation Loss': validation_loss / (batch_idx + 1)})\n",
    "\n",
    "    # storing the validation losses\n",
    "\n",
    "    epoch_loss = validation_loss / len(val_dataloader)\n",
    "    val_losses.append(epoch_loss)\n",
    "\n",
    "    print(f'Epoch [{epoch + 1}/{num_epochs}], Loss: {epoch_loss:.4f}')\n",
    "    \n",
    "    total_correct = len([True for x, y in zip(y_pred_val, y_true_val) if x==y])\n",
    "    total = len(y_true_val)\n",
    "    accuracy = total_correct * 100 / total\n",
    "    validation_accuracy.append(accuracy)\n",
    "\n",
    "    print(\"-------------------------------------------------\")\n",
    "    print(\"Epoch: {} Val mean loss: {:.8f}\".format(epoch, validation_loss))\n",
    "    print(\"valiation Accuracy%: \", accuracy, \"==\", total_correct, \"/\", total)\n",
    "    print(\"-------------------------------------------------\")\n",
    "\n",
    "    import pandas as pd\n",
    "\n",
    "    loss_dic={\"training_loss\":train_losses,\n",
    "              \"val_loss\":val_losses,\n",
    "              \"train_accuracy\":train_accuracy,\n",
    "              \"validation_accuracy\":validation_accuracy}\n",
    "\n",
    "    df = pd.DataFrame.from_dict(loss_dic) \n",
    "    path=directory+'/loss.csv'\n",
    "    df.to_csv (path, index = False, header=True)"
   ]
  },
  {
   "cell_type": "code",
   "execution_count": null,
   "id": "498c13b6",
   "metadata": {},
   "outputs": [],
   "source": [
    "import matplotlib.pyplot as plt\n",
    "\n",
    "# Plot training and validation losses\n",
    "plt.plot(range(1, len(train_losses) + 1), train_losses, label='Training Loss')\n",
    "plt.plot(range(1, len(val_losses) + 1), val_losses, label='Validation Loss')\n",
    "plt.xlabel('Epoch')\n",
    "plt.ylabel('Loss')\n",
    "plt.title('Training and Validation Loss Over Epochs')\n",
    "plt.legend()\n",
    "plt.show()"
   ]
  },
  {
   "cell_type": "markdown",
   "id": "c1acbf4d",
   "metadata": {},
   "source": [
    "# Model Analysis"
   ]
  },
  {
   "cell_type": "code",
   "execution_count": null,
   "id": "a3f524cb",
   "metadata": {},
   "outputs": [],
   "source": [
    "from torchsummary import summary\n",
    "\n",
    "summary(model, (1, 224, 224))"
   ]
  },
  {
   "cell_type": "code",
   "execution_count": null,
   "id": "93ed283e",
   "metadata": {},
   "outputs": [],
   "source": [
    "import re\n",
    "from ptflops import get_model_complexity_info\n",
    "from pthflops import count_ops\n",
    "\n",
    "macs, params = get_model_complexity_info(model, (1, 224,224), as_strings=True,print_per_layer_stat=False, verbose=False)\n",
    "# # Extract the numerical value\n",
    "flops = eval(re.findall(r'([\\d.]+)', macs)[0])*2\n",
    "# Extract the unit\n",
    "flops_unit = re.findall(r'([A-Za-z]+)', macs)[0][0]\n",
    "\n",
    "print('Computational complexity: {:<8}'.format(macs))\n",
    "print('Computational complexity: {} {}Flops'.format(flops, flops_unit))\n",
    "print('Number of parameters: {:<8}'.format(params))"
   ]
  },
  {
   "cell_type": "markdown",
   "id": "6c19b4c7",
   "metadata": {},
   "source": [
    "# Testing "
   ]
  },
  {
   "cell_type": "code",
   "execution_count": null,
   "id": "622b6258",
   "metadata": {},
   "outputs": [],
   "source": [
    "# choosing the best model from validation loss.\n",
    "\n",
    "best_epoch=np.argmin(val_losses)\n",
    "print('best_epoch:',best_epoch)"
   ]
  },
  {
   "cell_type": "code",
   "execution_count": null,
   "id": "aa6dc66c",
   "metadata": {},
   "outputs": [],
   "source": [
    "ckpt = torch.load(directory+'/mymodel_'+str(best_epoch)+'.pth')\n",
    "model.load_state_dict(ckpt)\n",
    "model.eval()\n"
   ]
  },
  {
   "cell_type": "code",
   "execution_count": null,
   "id": "7e7811ea",
   "metadata": {},
   "outputs": [],
   "source": [
    "from tqdm import tqdm\n",
    "\n",
    "progress_bar = tqdm(enumerate(test_dataloader), total=len(test_dataloader), desc=f'testing')\n",
    "\n",
    "y_true_val = []\n",
    "y_pred_val = []\n",
    "\n",
    "\n",
    "model.eval()\n",
    "for batch_idx, (images, labels) in progress_bar:\n",
    "    images = images.to(device)\n",
    "    labels = labels.to(device)\n",
    "    #images=images/255\n",
    "    optimizer.zero_grad()\n",
    "\n",
    "    outputs = model(images)\n",
    "\n",
    "    y_pred_val.extend(outputs.detach().argmax(dim=-1).tolist())\n",
    "    y_true_val.extend(labels.detach().tolist())\n",
    "\n",
    "\n",
    "\n",
    "    # Update progress bar description with current loss\n",
    "\n",
    "\n",
    "\n",
    "total_correct = len([True for x, y in zip(y_pred_val, y_true_val) if x==y])\n",
    "total = len(y_true_val)\n",
    "accuracy = total_correct * 100 / total\n",
    "\n",
    "print(\"-------------------------------------------------\")\n",
    "print(\"TEST Accuracy (%): \", accuracy, \"==\", total_correct, \"/\", total)\n",
    "print(\"-------------------------------------------------\")\n"
   ]
  },
  {
   "cell_type": "markdown",
   "id": "2b6d3a3d",
   "metadata": {},
   "source": [
    "# Demo on Test data"
   ]
  },
  {
   "cell_type": "code",
   "execution_count": null,
   "id": "a11433fc",
   "metadata": {},
   "outputs": [],
   "source": [
    "import matplotlib.pyplot as plt\n",
    "\n",
    "int_to_class = {0:\"COVID\" , 1:\"healthy\", 2:\"bacterial pneumonia\" ,3:\"viral pneumonia\"}  \n",
    "\n",
    "# Function to show images\n",
    "def show_images(images, labels,predictions):\n",
    "    plt.figure(figsize=(30, 30))\n",
    "    for i in range(len(images)):\n",
    "        plt.subplot(len(images),1 , i + 1)\n",
    "        plt.title(f\"GT: {int_to_class[labels[i].item()]} \\n prediction: {int_to_class[predictions[i]]}\")\n",
    "        plt.imshow(images[i][0], cmap=\"gray\")\n",
    "        plt.axis('off')\n",
    "    plt.show()\n",
    "\n",
    "# Display a batch of images\n",
    "for images, labels in test_dataloader:\n",
    "    images = images.to(device)\n",
    "    outputs = model(images)\n",
    "    outputs_cpu=outputs.detach().argmax(dim=-1).tolist()\n",
    "    print(outputs_cpu)\n",
    "    \n",
    "    break  # Show only the first batch\n",
    "    \n",
    "    \n",
    "images=images.to('cpu')\n",
    "    \n",
    "show_images(images,labels,outputs_cpu)"
   ]
  }
 ],
 "metadata": {
  "kernelspec": {
   "display_name": "Python 3 (ipykernel)",
   "language": "python",
   "name": "python3"
  },
  "language_info": {
   "codemirror_mode": {
    "name": "ipython",
    "version": 3
   },
   "file_extension": ".py",
   "mimetype": "text/x-python",
   "name": "python",
   "nbconvert_exporter": "python",
   "pygments_lexer": "ipython3",
   "version": "3.9.12"
  }
 },
 "nbformat": 4,
 "nbformat_minor": 5
}
